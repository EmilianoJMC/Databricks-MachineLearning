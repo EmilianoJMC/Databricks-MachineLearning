{
 "cells": [
  {
   "cell_type": "markdown",
   "metadata": {
    "application/vnd.databricks.v1+cell": {
     "cellMetadata": {},
     "inputWidgets": {},
     "nuid": "8f42991c-e105-44ba-a71f-7cd98ab09cd5",
     "showTitle": false,
     "tableResultSettingsMap": {},
     "title": ""
    }
   },
   "source": [
    "## Criando a Base de Dados de Vendas"
   ]
  },
  {
   "cell_type": "code",
   "execution_count": 0,
   "metadata": {
    "application/vnd.databricks.v1+cell": {
     "cellMetadata": {
      "byteLimit": 2048000,
      "rowLimit": 10000
     },
     "inputWidgets": {},
     "nuid": "83a3c4e7-fb15-487b-8d65-d5429e1d1e7d",
     "showTitle": false,
     "tableResultSettingsMap": {},
     "title": ""
    }
   },
   "outputs": [
    {
     "output_type": "stream",
     "name": "stdout",
     "output_type": "stream",
     "text": [
      "+--------+-------------------+-----------+----------+--------+------+------------------+--------+\n|order_id|               date|customer_id|product_id|quantity| price|       total_price|category|\n+--------+-------------------+-----------+----------+--------+------+------------------+--------+\n|  969838|2023-12-10 00:00:00|      34720|      1089|       1|338.05|            338.05|  Móveis|\n|  689156|2023-05-22 00:00:00|      26071|      1005|       3| 76.69|            230.07|  Móveis|\n|  372189|2023-03-01 00:00:00|      21605|      1042|       5|268.42|1342.1000000000001|  Roupas|\n|  401288|2023-01-24 00:00:00|      12713|      1013|       4|434.86|           1739.44|  Móveis|\n|  257476|2023-12-28 00:00:00|      28211|      1082|       1|412.49|            412.49|  Móveis|\n+--------+-------------------+-----------+----------+--------+------+------------------+--------+\nonly showing top 5 rows\n\n"
     ]
    }
   ],
   "source": [
    "from pyspark.sql import SparkSession\n",
    "from pyspark.sql.functions import col\n",
    "import pandas as pd\n",
    "import random\n",
    "from datetime import datetime, timedelta\n",
    "\n",
    "# Criar sessão Spark\n",
    "spark = SparkSession.builder.appName(\"SalesAnalysis\").getOrCreate()\n",
    "\n",
    "# Definir categorias e produtos\n",
    "categories = [\"Eletrônicos\", \"Roupas\", \"Brinquedos\", \"Móveis\", \"Automotivo\", \"Alimentos\"]\n",
    "product_ids = list(range(1000, 1100))  # 100 produtos\n",
    "\n",
    "# Gerar 100.000 registros aleatórios\n",
    "num_records = 100_000  \n",
    "start_date = datetime(2023, 1, 1)\n",
    "data = []\n",
    "\n",
    "for _ in range(num_records):\n",
    "    order_id = random.randint(100000, 999999)\n",
    "    date = start_date + timedelta(days=random.randint(0, 365))\n",
    "    customer_id = random.randint(10000, 50000)\n",
    "    product_id = random.choice(product_ids)\n",
    "    quantity = random.randint(1, 5)\n",
    "    price = round(random.uniform(10, 500), 2)\n",
    "    total_price = quantity * price\n",
    "    category = random.choice(categories)\n",
    "    \n",
    "    data.append([order_id, date, customer_id, product_id, quantity, price, total_price, category])\n",
    "\n",
    "# Criar DataFrame Pandas e converter para Spark\n",
    "df_pandas = pd.DataFrame(data, columns=[\"order_id\", \"date\", \"customer_id\", \"product_id\", \"quantity\", \"price\", \"total_price\", \"category\"])\n",
    "df_spark = spark.createDataFrame(df_pandas)\n",
    "\n",
    "# Exibir primeiras linhas\n",
    "df_spark.show(5)\n"
   ]
  },
  {
   "cell_type": "markdown",
   "metadata": {
    "application/vnd.databricks.v1+cell": {
     "cellMetadata": {},
     "inputWidgets": {},
     "nuid": "f767a245-44db-4bca-9e36-6dc7ef712097",
     "showTitle": false,
     "tableResultSettingsMap": {},
     "title": ""
    }
   },
   "source": [
    "## Salvando os Dados no Delta Lake"
   ]
  },
  {
   "cell_type": "code",
   "execution_count": 0,
   "metadata": {
    "application/vnd.databricks.v1+cell": {
     "cellMetadata": {
      "byteLimit": 2048000,
      "rowLimit": 10000
     },
     "inputWidgets": {},
     "nuid": "c75ec3d9-a2f9-48c8-93cc-57697c5986d9",
     "showTitle": false,
     "tableResultSettingsMap": {},
     "title": ""
    }
   },
   "outputs": [],
   "source": [
    "# Salvar como Delta Table\n",
    "df_spark.write.format(\"delta\").mode(\"overwrite\").save(\"/tmp/delta/sales\")"
   ]
  },
  {
   "cell_type": "code",
   "execution_count": 0,
   "metadata": {
    "application/vnd.databricks.v1+cell": {
     "cellMetadata": {
      "byteLimit": 2048000,
      "rowLimit": 10000
     },
     "inputWidgets": {},
     "nuid": "d42cf5ed-9990-4e2f-8642-eca826a331e0",
     "showTitle": false,
     "tableResultSettingsMap": {},
     "title": ""
    }
   },
   "outputs": [],
   "source": [
    "df_spark.write.format(\"delta\").mode(\"overwrite\").saveAsTable(\"sales_table\")"
   ]
  },
  {
   "cell_type": "markdown",
   "metadata": {
    "application/vnd.databricks.v1+cell": {
     "cellMetadata": {},
     "inputWidgets": {},
     "nuid": "57732fc6-7980-4437-a68a-d2d1e2d7c51c",
     "showTitle": false,
     "tableResultSettingsMap": {},
     "title": ""
    }
   },
   "source": [
    "## Consultas e Métricas"
   ]
  },
  {
   "cell_type": "code",
   "execution_count": 0,
   "metadata": {
    "application/vnd.databricks.v1+cell": {
     "cellMetadata": {
      "byteLimit": 2048000,
      "implicitDf": true,
      "rowLimit": 10000
     },
     "inputWidgets": {},
     "nuid": "bc421a9d-1d7c-4fa7-b2f5-a7efadf31501",
     "showTitle": false,
     "tableResultSettingsMap": {},
     "title": ""
    }
   },
   "outputs": [
    {
     "output_type": "display_data",
     "data": {
      "text/html": [
       "<style scoped>\n",
       "  .table-result-container {\n",
       "    max-height: 300px;\n",
       "    overflow: auto;\n",
       "  }\n",
       "  table, th, td {\n",
       "    border: 1px solid black;\n",
       "    border-collapse: collapse;\n",
       "  }\n",
       "  th, td {\n",
       "    padding: 5px;\n",
       "  }\n",
       "  th {\n",
       "    text-align: left;\n",
       "  }\n",
       "</style><div class='table-result-container'><table class='table-result'><thead style='background-color: white'><tr><th>order_id</th><th>date</th><th>customer_id</th><th>product_id</th><th>quantity</th><th>price</th><th>total_price</th><th>category</th></tr></thead><tbody><tr><td>969838</td><td>2023-12-10T00:00:00.000+0000</td><td>34720</td><td>1089</td><td>1</td><td>338.05</td><td>338.05</td><td>Móveis</td></tr><tr><td>689156</td><td>2023-05-22T00:00:00.000+0000</td><td>26071</td><td>1005</td><td>3</td><td>76.69</td><td>230.07</td><td>Móveis</td></tr><tr><td>372189</td><td>2023-03-01T00:00:00.000+0000</td><td>21605</td><td>1042</td><td>5</td><td>268.42</td><td>1342.1000000000001</td><td>Roupas</td></tr><tr><td>401288</td><td>2023-01-24T00:00:00.000+0000</td><td>12713</td><td>1013</td><td>4</td><td>434.86</td><td>1739.44</td><td>Móveis</td></tr><tr><td>257476</td><td>2023-12-28T00:00:00.000+0000</td><td>28211</td><td>1082</td><td>1</td><td>412.49</td><td>412.49</td><td>Móveis</td></tr><tr><td>632827</td><td>2023-09-29T00:00:00.000+0000</td><td>27366</td><td>1037</td><td>5</td><td>65.29</td><td>326.45000000000005</td><td>Eletrônicos</td></tr><tr><td>891895</td><td>2023-01-06T00:00:00.000+0000</td><td>13846</td><td>1082</td><td>1</td><td>193.38</td><td>193.38</td><td>Roupas</td></tr><tr><td>680630</td><td>2023-11-10T00:00:00.000+0000</td><td>26733</td><td>1079</td><td>3</td><td>336.96</td><td>1010.8799999999999</td><td>Brinquedos</td></tr><tr><td>449495</td><td>2023-12-16T00:00:00.000+0000</td><td>45394</td><td>1012</td><td>5</td><td>144.03</td><td>720.15</td><td>Eletrônicos</td></tr><tr><td>845380</td><td>2023-12-10T00:00:00.000+0000</td><td>10375</td><td>1073</td><td>4</td><td>189.91</td><td>759.64</td><td>Móveis</td></tr></tbody></table></div>"
      ]
     },
     "metadata": {
      "application/vnd.databricks.v1+output": {
       "addedWidgets": {},
       "aggData": [],
       "aggError": "",
       "aggOverflow": false,
       "aggSchema": [],
       "aggSeriesLimitReached": false,
       "aggType": "",
       "arguments": {},
       "columnCustomDisplayInfos": {},
       "data": [
        [
         969838,
         "2023-12-10T00:00:00.000+0000",
         34720,
         1089,
         1,
         338.05,
         338.05,
         "Móveis"
        ],
        [
         689156,
         "2023-05-22T00:00:00.000+0000",
         26071,
         1005,
         3,
         76.69,
         230.07,
         "Móveis"
        ],
        [
         372189,
         "2023-03-01T00:00:00.000+0000",
         21605,
         1042,
         5,
         268.42,
         1342.1000000000001,
         "Roupas"
        ],
        [
         401288,
         "2023-01-24T00:00:00.000+0000",
         12713,
         1013,
         4,
         434.86,
         1739.44,
         "Móveis"
        ],
        [
         257476,
         "2023-12-28T00:00:00.000+0000",
         28211,
         1082,
         1,
         412.49,
         412.49,
         "Móveis"
        ],
        [
         632827,
         "2023-09-29T00:00:00.000+0000",
         27366,
         1037,
         5,
         65.29,
         326.45000000000005,
         "Eletrônicos"
        ],
        [
         891895,
         "2023-01-06T00:00:00.000+0000",
         13846,
         1082,
         1,
         193.38,
         193.38,
         "Roupas"
        ],
        [
         680630,
         "2023-11-10T00:00:00.000+0000",
         26733,
         1079,
         3,
         336.96,
         1010.8799999999999,
         "Brinquedos"
        ],
        [
         449495,
         "2023-12-16T00:00:00.000+0000",
         45394,
         1012,
         5,
         144.03,
         720.15,
         "Eletrônicos"
        ],
        [
         845380,
         "2023-12-10T00:00:00.000+0000",
         10375,
         1073,
         4,
         189.91,
         759.64,
         "Móveis"
        ]
       ],
       "datasetInfos": [],
       "dbfsResultPath": null,
       "isJsonSchema": true,
       "metadata": {},
       "overflow": false,
       "plotOptions": {
        "customPlotOptions": {},
        "displayType": "table",
        "pivotAggregation": null,
        "pivotColumns": null,
        "xColumns": null,
        "yColumns": null
       },
       "removedWidgets": [],
       "schema": [
        {
         "metadata": "{}",
         "name": "order_id",
         "type": "\"long\""
        },
        {
         "metadata": "{}",
         "name": "date",
         "type": "\"timestamp\""
        },
        {
         "metadata": "{}",
         "name": "customer_id",
         "type": "\"long\""
        },
        {
         "metadata": "{}",
         "name": "product_id",
         "type": "\"long\""
        },
        {
         "metadata": "{}",
         "name": "quantity",
         "type": "\"long\""
        },
        {
         "metadata": "{}",
         "name": "price",
         "type": "\"double\""
        },
        {
         "metadata": "{}",
         "name": "total_price",
         "type": "\"double\""
        },
        {
         "metadata": "{}",
         "name": "category",
         "type": "\"string\""
        }
       ],
       "type": "table"
      }
     },
     "output_type": "display_data"
    }
   ],
   "source": [
    "%sql\n",
    "SELECT * FROM sales_table LIMIT 10;"
   ]
  },
  {
   "cell_type": "code",
   "execution_count": 0,
   "metadata": {
    "application/vnd.databricks.v1+cell": {
     "cellMetadata": {
      "byteLimit": 2048000,
      "rowLimit": 10000
     },
     "inputWidgets": {},
     "nuid": "139ef391-b4ab-4118-9649-885a7fd71173",
     "showTitle": false,
     "tableResultSettingsMap": {},
     "title": ""
    }
   },
   "outputs": [
    {
     "output_type": "stream",
     "name": "stdout",
     "output_type": "stream",
     "text": [
      "+-----------+--------------------+\n|   category|    sum(total_price)|\n+-----------+--------------------+\n|     Móveis|1.2894089890000002E7|\n| Automotivo|       1.278778747E7|\n|Eletrônicos|1.2686744759999998E7|\n|  Alimentos|1.2606507240000002E7|\n|     Roupas|1.2666113960000006E7|\n| Brinquedos|       1.274157735E7|\n+-----------+--------------------+\n\n"
     ]
    }
   ],
   "source": [
    "# Vendas por Categoria\n",
    "df_spark.groupBy(\"category\").sum(\"total_price\").show()"
   ]
  },
  {
   "cell_type": "code",
   "execution_count": 0,
   "metadata": {
    "application/vnd.databricks.v1+cell": {
     "cellMetadata": {
      "byteLimit": 2048000,
      "rowLimit": 10000
     },
     "inputWidgets": {},
     "nuid": "7f4cf94c-493a-4845-9102-d0410c089501",
     "showTitle": false,
     "tableResultSettingsMap": {},
     "title": ""
    }
   },
   "outputs": [
    {
     "output_type": "stream",
     "name": "stdout",
     "output_type": "stream",
     "text": [
      "+-----------+------------------+\n|   category|        avg(price)|\n+-----------+------------------+\n|     Móveis|256.10778030802436|\n| Automotivo|253.47538076212075|\n|Eletrônicos| 254.8811847774057|\n|  Alimentos|255.44852002922212|\n|     Roupas| 254.6053173602355|\n| Brinquedos| 253.0775007461351|\n+-----------+------------------+\n\n"
     ]
    }
   ],
   "source": [
    "df_spark.groupBy(\"category\").avg(\"price\").show()"
   ]
  },
  {
   "cell_type": "code",
   "execution_count": 0,
   "metadata": {
    "application/vnd.databricks.v1+cell": {
     "cellMetadata": {
      "byteLimit": 2048000,
      "rowLimit": 10000
     },
     "inputWidgets": {},
     "nuid": "31ece3fe-4908-4ec1-b62a-6da4b6508449",
     "showTitle": false,
     "tableResultSettingsMap": {},
     "title": ""
    }
   },
   "outputs": [
    {
     "output_type": "stream",
     "name": "stdout",
     "output_type": "stream",
     "text": [
      "+-------------------+-----+\n|               date|count|\n+-------------------+-----+\n|2023-01-01 00:00:00|  241|\n|2023-01-02 00:00:00|  285|\n|2023-01-03 00:00:00|  253|\n|2023-01-04 00:00:00|  293|\n|2023-01-05 00:00:00|  291|\n|2023-01-06 00:00:00|  296|\n|2023-01-07 00:00:00|  253|\n|2023-01-08 00:00:00|  260|\n|2023-01-09 00:00:00|  291|\n|2023-01-10 00:00:00|  281|\n|2023-01-11 00:00:00|  307|\n|2023-01-12 00:00:00|  269|\n|2023-01-13 00:00:00|  284|\n|2023-01-14 00:00:00|  281|\n|2023-01-15 00:00:00|  256|\n|2023-01-16 00:00:00|  259|\n|2023-01-17 00:00:00|  292|\n|2023-01-18 00:00:00|  299|\n|2023-01-19 00:00:00|  293|\n|2023-01-20 00:00:00|  272|\n+-------------------+-----+\nonly showing top 20 rows\n\n"
     ]
    }
   ],
   "source": [
    "# Evolução das Vendas por Data\n",
    "df_spark.groupBy(\"date\").count().orderBy(\"date\").show()"
   ]
  },
  {
   "cell_type": "markdown",
   "metadata": {
    "application/vnd.databricks.v1+cell": {
     "cellMetadata": {},
     "inputWidgets": {},
     "nuid": "c39357ef-12d2-4ab0-a743-3720a2f479c0",
     "showTitle": false,
     "tableResultSettingsMap": {},
     "title": ""
    }
   },
   "source": [
    "## Gráficos"
   ]
  },
  {
   "cell_type": "code",
   "execution_count": 0,
   "metadata": {
    "application/vnd.databricks.v1+cell": {
     "cellMetadata": {
      "byteLimit": 2048000,
      "rowLimit": 10000
     },
     "inputWidgets": {},
     "nuid": "304cba9d-a11d-4c7f-946c-f3c80680a064",
     "showTitle": false,
     "tableResultSettingsMap": {},
     "title": ""
    }
   },
   "outputs": [
    {
     "output_type": "display_data",
     "data": {
      "text/html": [
       "<style scoped>\n",
       "  .table-result-container {\n",
       "    max-height: 300px;\n",
       "    overflow: auto;\n",
       "  }\n",
       "  table, th, td {\n",
       "    border: 1px solid black;\n",
       "    border-collapse: collapse;\n",
       "  }\n",
       "  th, td {\n",
       "    padding: 5px;\n",
       "  }\n",
       "  th {\n",
       "    text-align: left;\n",
       "  }\n",
       "</style><div class='table-result-container'><table class='table-result'><thead style='background-color: white'><tr><th>category</th><th>sum(total_price)</th></tr></thead><tbody><tr><td>Móveis</td><td>1.2894089890000002E7</td></tr><tr><td>Automotivo</td><td>1.278778747E7</td></tr><tr><td>Eletrônicos</td><td>1.2686744759999998E7</td></tr><tr><td>Alimentos</td><td>1.2606507240000002E7</td></tr><tr><td>Roupas</td><td>1.2666113960000006E7</td></tr><tr><td>Brinquedos</td><td>1.274157735E7</td></tr></tbody></table></div>"
      ]
     },
     "metadata": {
      "application/vnd.databricks.v1+output": {
       "addedWidgets": {},
       "aggData": [],
       "aggError": "",
       "aggOverflow": false,
       "aggSchema": [],
       "aggSeriesLimitReached": false,
       "aggType": "",
       "arguments": {},
       "columnCustomDisplayInfos": {},
       "data": [
        [
         "Móveis",
         1.2894089890000002E7
        ],
        [
         "Automotivo",
         1.278778747E7
        ],
        [
         "Eletrônicos",
         1.2686744759999998E7
        ],
        [
         "Alimentos",
         1.2606507240000002E7
        ],
        [
         "Roupas",
         1.2666113960000006E7
        ],
        [
         "Brinquedos",
         1.274157735E7
        ]
       ],
       "datasetInfos": [],
       "dbfsResultPath": null,
       "isJsonSchema": true,
       "metadata": {},
       "overflow": false,
       "plotOptions": {
        "customPlotOptions": {},
        "displayType": "table",
        "pivotAggregation": null,
        "pivotColumns": null,
        "xColumns": null,
        "yColumns": null
       },
       "removedWidgets": [],
       "schema": [
        {
         "metadata": "{}",
         "name": "category",
         "type": "\"string\""
        },
        {
         "metadata": "{}",
         "name": "sum(total_price)",
         "type": "\"double\""
        }
       ],
       "type": "table"
      }
     },
     "output_type": "display_data"
    },
    {
     "output_type": "display_data",
     "data": {
      "text/plain": [
       "Databricks visualization. Run in Databricks to view."
      ]
     },
     "metadata": {
      "application/vnd.databricks.v1.subcommand+json": {
       "baseErrorDetails": null,
       "bindings": {},
       "collapsed": false,
       "command": "%python\n__backend_agg_display_orig = display\n__backend_agg_dfs = []\ndef __backend_agg_display_new(df):\n    __backend_agg_df_modules = [\"pandas.core.frame\", \"databricks.koalas.frame\", \"pyspark.sql.dataframe\", \"pyspark.pandas.frame\", \"pyspark.sql.connect.dataframe\"]\n    if (type(df).__module__ in __backend_agg_df_modules and type(df).__name__ == 'DataFrame') or isinstance(df, list):\n        __backend_agg_dfs.append(df)\n\ndisplay = __backend_agg_display_new\n\ndef __backend_agg_user_code_fn():\n    import base64\n    exec(base64.standard_b64decode(\"IyBWZW5kYXMgcG9yIENhdGVnb3JpYQpkZl9jYXRlZ29yeSA9IGRmX3NwYXJrLmdyb3VwQnkoImNhdGVnb3J5Iikuc3VtKCJ0b3RhbF9wcmljZSIpCmRpc3BsYXkoZGZfY2F0ZWdvcnkp\").decode())\n\ntry:\n    # run user code\n    __backend_agg_user_code_fn()\n\n    #reset display function\n    display = __backend_agg_display_orig\n\n    if len(__backend_agg_dfs) > 0:\n        # create a temp view\n        if type(__backend_agg_dfs[0]).__module__ == \"databricks.koalas.frame\":\n            # koalas dataframe\n            __backend_agg_dfs[0].to_spark().createOrReplaceTempView(\"DatabricksView535dea2\")\n        elif type(__backend_agg_dfs[0]).__module__ == \"pandas.core.frame\" or isinstance(__backend_agg_dfs[0], list):\n            # pandas dataframe\n            spark.createDataFrame(__backend_agg_dfs[0]).createOrReplaceTempView(\"DatabricksView535dea2\")\n        else:\n            __backend_agg_dfs[0].createOrReplaceTempView(\"DatabricksView535dea2\")\n        #run backend agg\n        display(spark.sql(\"\"\"WITH q AS (select * from DatabricksView535dea2) SELECT `category`,SUM(`sum(total_price)`) `column_7612c2cd35`,`sum(total_price)` FROM q GROUP BY `category`,`sum(total_price)`\"\"\"))\n    else:\n        displayHTML(\"dataframe no longer exists. If you're using dataframe.display(), use display(dataframe) instead.\")\n\n\nfinally:\n    spark.sql(\"drop view if exists DatabricksView535dea2\")\n    display = __backend_agg_display_orig\n    del __backend_agg_display_new\n    del __backend_agg_display_orig\n    del __backend_agg_dfs\n    del __backend_agg_user_code_fn\n\n",
       "commandTitle": "Visualização 1",
       "commandType": "auto",
       "commandVersion": 0,
       "commentThread": [],
       "commentsVisible": false,
       "contentSha256Hex": null,
       "customPlotOptions": {
        "redashChart": [
         {
          "key": "type",
          "value": "CHART"
         },
         {
          "key": "options",
          "value": {
           "alignYAxesAtZero": true,
           "coefficient": 1,
           "columnConfigurationMap": {
            "series": {
             "column": "sum(total_price)",
             "id": "column_7612c2cd39"
            },
            "x": {
             "column": "category",
             "id": "column_7612c2cd38"
            },
            "y": [
             {
              "column": "sum(total_price)",
              "id": "column_7612c2cd35",
              "transform": "SUM"
             }
            ]
           },
           "dateTimeFormat": "DD/MM/YYYY HH:mm",
           "direction": {
            "type": "counterclockwise"
           },
           "error_y": {
            "type": "data",
            "visible": true
           },
           "globalSeriesType": "column",
           "isAggregationOn": true,
           "legend": {
            "traceorder": "normal"
           },
           "missingValuesAsZero": true,
           "numberFormat": "0,0.[00000]",
           "percentFormat": "0[.]00%",
           "series": {
            "error_y": {
             "type": "data",
             "visible": true
            },
            "stacking": null
           },
           "seriesOptions": {
            "column_7612c2cd35": {
             "name": "sum(total_price)",
             "type": "column",
             "yAxis": 0
            }
           },
           "showDataLabels": false,
           "sizemode": "diameter",
           "sortX": true,
           "sortY": true,
           "swappedAxes": false,
           "textFormat": "",
           "useAggregationsUi": true,
           "valuesOptions": {},
           "version": 2,
           "xAxis": {
            "labels": {
             "enabled": true
            },
            "type": "-"
           },
           "yAxis": [
            {
             "type": "-"
            },
            {
             "opposite": true,
             "type": "-"
            }
           ]
          }
         }
        ]
       },
       "datasetPreviewNameToCmdIdMap": {},
       "diffDeletes": [],
       "diffInserts": [],
       "displayType": "redashChart",
       "error": null,
       "errorDetails": null,
       "errorSummary": null,
       "errorTraceType": null,
       "finishTime": 0,
       "globalVars": {},
       "guid": "",
       "height": "auto",
       "hideCommandCode": false,
       "hideCommandResult": false,
       "iPythonMetadata": null,
       "inputWidgets": {},
       "isLockedInExamMode": false,
       "latestUser": "a user",
       "latestUserId": null,
       "listResultMetadata": null,
       "metadata": {
        "byteLimit": 2048000,
        "rowLimit": 10000
       },
       "nuid": "c463ed2c-75fa-4513-8886-59e6ba5c9ba7",
       "origId": 0,
       "parentHierarchy": [],
       "pivotAggregation": null,
       "pivotColumns": null,
       "position": 8.25,
       "resultDbfsErrorMessage": null,
       "resultDbfsStatus": "INLINED_IN_TREE",
       "results": null,
       "showCommandTitle": false,
       "startTime": 0,
       "state": "finished",
       "streamStates": {},
       "subcommandOptions": {
        "queryPlan": {
         "groups": [
          {
           "column": "category",
           "type": "column"
          },
          {
           "column": "sum(total_price)",
           "type": "column"
          }
         ],
         "selects": [
          {
           "column": "category",
           "type": "column"
          },
          {
           "alias": "column_7612c2cd35",
           "args": [
            {
             "column": "sum(total_price)",
             "type": "column"
            }
           ],
           "function": "SUM",
           "type": "function"
          },
          {
           "column": "sum(total_price)",
           "type": "column"
          }
         ]
        }
       },
       "submitTime": 0,
       "subtype": "tableResultSubCmd.visualization",
       "tableResultIndex": 0,
       "tableResultSettingsMap": {},
       "useConsistentColors": false,
       "version": "CommandV1",
       "width": "auto",
       "workflows": [],
       "xColumns": null,
       "yColumns": null
      }
     },
     "output_type": "display_data"
    }
   ],
   "source": [
    "# Vendas por Categoria\n",
    "df_category = df_spark.groupBy(\"category\").sum(\"total_price\")\n",
    "display(df_category)"
   ]
  },
  {
   "cell_type": "code",
   "execution_count": 0,
   "metadata": {
    "application/vnd.databricks.v1+cell": {
     "cellMetadata": {
      "byteLimit": 2048000,
      "rowLimit": 10000
     },
     "inputWidgets": {},
     "nuid": "5efaafd2-fd32-4752-8fb9-cc004b9786df",
     "showTitle": false,
     "tableResultSettingsMap": {},
     "title": ""
    }
   },
   "outputs": [
    {
     "output_type": "display_data",
     "data": {
      "text/html": [
       "<style scoped>\n",
       "  .table-result-container {\n",
       "    max-height: 300px;\n",
       "    overflow: auto;\n",
       "  }\n",
       "  table, th, td {\n",
       "    border: 1px solid black;\n",
       "    border-collapse: collapse;\n",
       "  }\n",
       "  th, td {\n",
       "    padding: 5px;\n",
       "  }\n",
       "  th {\n",
       "    text-align: left;\n",
       "  }\n",
       "</style><div class='table-result-container'><table class='table-result'><thead style='background-color: white'><tr><th>date</th><th>sum(total_price)</th></tr></thead><tbody><tr><td>2023-01-01T00:00:00.000+0000</td><td>170050.13</td></tr><tr><td>2023-01-02T00:00:00.000+0000</td><td>196744.01999999996</td></tr><tr><td>2023-01-03T00:00:00.000+0000</td><td>200471.71000000002</td></tr><tr><td>2023-01-04T00:00:00.000+0000</td><td>217944.76</td></tr><tr><td>2023-01-05T00:00:00.000+0000</td><td>237703.44999999998</td></tr><tr><td>2023-01-06T00:00:00.000+0000</td><td>212222.41</td></tr><tr><td>2023-01-07T00:00:00.000+0000</td><td>167436.59000000003</td></tr><tr><td>2023-01-08T00:00:00.000+0000</td><td>193414.92999999996</td></tr><tr><td>2023-01-09T00:00:00.000+0000</td><td>225031.64</td></tr><tr><td>2023-01-10T00:00:00.000+0000</td><td>213720.00000000003</td></tr><tr><td>2023-01-11T00:00:00.000+0000</td><td>218126.14</td></tr><tr><td>2023-01-12T00:00:00.000+0000</td><td>205232.12000000005</td></tr><tr><td>2023-01-13T00:00:00.000+0000</td><td>214596.52</td></tr><tr><td>2023-01-14T00:00:00.000+0000</td><td>216247.46999999997</td></tr><tr><td>2023-01-15T00:00:00.000+0000</td><td>184039.55999999997</td></tr><tr><td>2023-01-16T00:00:00.000+0000</td><td>193732.56999999998</td></tr><tr><td>2023-01-17T00:00:00.000+0000</td><td>227506.71000000002</td></tr><tr><td>2023-01-18T00:00:00.000+0000</td><td>217843.31</td></tr><tr><td>2023-01-19T00:00:00.000+0000</td><td>238643.57</td></tr><tr><td>2023-01-20T00:00:00.000+0000</td><td>206782.56000000003</td></tr><tr><td>2023-01-21T00:00:00.000+0000</td><td>212051.07</td></tr><tr><td>2023-01-22T00:00:00.000+0000</td><td>199146.55</td></tr><tr><td>2023-01-23T00:00:00.000+0000</td><td>209791.09999999998</td></tr><tr><td>2023-01-24T00:00:00.000+0000</td><td>209628.71000000002</td></tr><tr><td>2023-01-25T00:00:00.000+0000</td><td>200951.56000000003</td></tr><tr><td>2023-01-26T00:00:00.000+0000</td><td>197674.55000000002</td></tr><tr><td>2023-01-27T00:00:00.000+0000</td><td>217773.11000000002</td></tr><tr><td>2023-01-28T00:00:00.000+0000</td><td>200373.96</td></tr><tr><td>2023-01-29T00:00:00.000+0000</td><td>211076.37</td></tr><tr><td>2023-01-30T00:00:00.000+0000</td><td>197428.72000000003</td></tr><tr><td>2023-01-31T00:00:00.000+0000</td><td>196336.04000000004</td></tr><tr><td>2023-02-01T00:00:00.000+0000</td><td>219440.05</td></tr><tr><td>2023-02-02T00:00:00.000+0000</td><td>190405.73</td></tr><tr><td>2023-02-03T00:00:00.000+0000</td><td>219298.64</td></tr><tr><td>2023-02-04T00:00:00.000+0000</td><td>192033.25</td></tr><tr><td>2023-02-05T00:00:00.000+0000</td><td>205497.89999999997</td></tr><tr><td>2023-02-06T00:00:00.000+0000</td><td>222569.92</td></tr><tr><td>2023-02-07T00:00:00.000+0000</td><td>218677.91999999995</td></tr><tr><td>2023-02-08T00:00:00.000+0000</td><td>209101.91999999998</td></tr><tr><td>2023-02-09T00:00:00.000+0000</td><td>194751.83</td></tr><tr><td>2023-02-10T00:00:00.000+0000</td><td>210155.71</td></tr><tr><td>2023-02-11T00:00:00.000+0000</td><td>209651.02000000002</td></tr><tr><td>2023-02-12T00:00:00.000+0000</td><td>212767.84</td></tr><tr><td>2023-02-13T00:00:00.000+0000</td><td>220318.37999999998</td></tr><tr><td>2023-02-14T00:00:00.000+0000</td><td>200619.08999999997</td></tr><tr><td>2023-02-15T00:00:00.000+0000</td><td>225438.41999999998</td></tr><tr><td>2023-02-16T00:00:00.000+0000</td><td>185669.46</td></tr><tr><td>2023-02-17T00:00:00.000+0000</td><td>226685.51</td></tr><tr><td>2023-02-18T00:00:00.000+0000</td><td>202499.27000000002</td></tr><tr><td>2023-02-19T00:00:00.000+0000</td><td>202835.36</td></tr><tr><td>2023-02-20T00:00:00.000+0000</td><td>230687.93</td></tr><tr><td>2023-02-21T00:00:00.000+0000</td><td>209566.87999999998</td></tr><tr><td>2023-02-22T00:00:00.000+0000</td><td>213799.72000000003</td></tr><tr><td>2023-02-23T00:00:00.000+0000</td><td>204895.74000000002</td></tr><tr><td>2023-02-24T00:00:00.000+0000</td><td>226860.90999999997</td></tr><tr><td>2023-02-25T00:00:00.000+0000</td><td>218636.78000000003</td></tr><tr><td>2023-02-26T00:00:00.000+0000</td><td>206883.06</td></tr><tr><td>2023-02-27T00:00:00.000+0000</td><td>199990.19000000003</td></tr><tr><td>2023-02-28T00:00:00.000+0000</td><td>192681.06000000003</td></tr><tr><td>2023-03-01T00:00:00.000+0000</td><td>199817.93</td></tr><tr><td>2023-03-02T00:00:00.000+0000</td><td>197976.22999999998</td></tr><tr><td>2023-03-03T00:00:00.000+0000</td><td>203167.58</td></tr><tr><td>2023-03-04T00:00:00.000+0000</td><td>213204.93999999997</td></tr><tr><td>2023-03-05T00:00:00.000+0000</td><td>221450.5</td></tr><tr><td>2023-03-06T00:00:00.000+0000</td><td>237023.13</td></tr><tr><td>2023-03-07T00:00:00.000+0000</td><td>229826.44999999995</td></tr><tr><td>2023-03-08T00:00:00.000+0000</td><td>224305.1</td></tr><tr><td>2023-03-09T00:00:00.000+0000</td><td>221020.80999999997</td></tr><tr><td>2023-03-10T00:00:00.000+0000</td><td>198330.71</td></tr><tr><td>2023-03-11T00:00:00.000+0000</td><td>210291.5</td></tr><tr><td>2023-03-12T00:00:00.000+0000</td><td>185806.65</td></tr><tr><td>2023-03-13T00:00:00.000+0000</td><td>207924.22</td></tr><tr><td>2023-03-14T00:00:00.000+0000</td><td>226347.94</td></tr><tr><td>2023-03-15T00:00:00.000+0000</td><td>209734.88999999998</td></tr><tr><td>2023-03-16T00:00:00.000+0000</td><td>166233.75</td></tr><tr><td>2023-03-17T00:00:00.000+0000</td><td>203017.17000000004</td></tr><tr><td>2023-03-18T00:00:00.000+0000</td><td>204958.25</td></tr><tr><td>2023-03-19T00:00:00.000+0000</td><td>212758.2</td></tr><tr><td>2023-03-20T00:00:00.000+0000</td><td>227277.54000000004</td></tr><tr><td>2023-03-21T00:00:00.000+0000</td><td>213980.12999999998</td></tr><tr><td>2023-03-22T00:00:00.000+0000</td><td>233762.81999999998</td></tr><tr><td>2023-03-23T00:00:00.000+0000</td><td>200501.44999999998</td></tr><tr><td>2023-03-24T00:00:00.000+0000</td><td>190784.55000000005</td></tr><tr><td>2023-03-25T00:00:00.000+0000</td><td>218685.13</td></tr><tr><td>2023-03-26T00:00:00.000+0000</td><td>198808.65</td></tr><tr><td>2023-03-27T00:00:00.000+0000</td><td>264310.55000000005</td></tr><tr><td>2023-03-28T00:00:00.000+0000</td><td>220794.88999999998</td></tr><tr><td>2023-03-29T00:00:00.000+0000</td><td>213026.66</td></tr><tr><td>2023-03-30T00:00:00.000+0000</td><td>199752.53</td></tr><tr><td>2023-03-31T00:00:00.000+0000</td><td>208001.09</td></tr><tr><td>2023-04-01T00:00:00.000+0000</td><td>209314.47000000003</td></tr><tr><td>2023-04-02T00:00:00.000+0000</td><td>200372.41999999998</td></tr><tr><td>2023-04-03T00:00:00.000+0000</td><td>213609.8</td></tr><tr><td>2023-04-04T00:00:00.000+0000</td><td>203809.29999999996</td></tr><tr><td>2023-04-05T00:00:00.000+0000</td><td>214987.65000000002</td></tr><tr><td>2023-04-06T00:00:00.000+0000</td><td>196271.36000000002</td></tr><tr><td>2023-04-07T00:00:00.000+0000</td><td>199122.07</td></tr><tr><td>2023-04-08T00:00:00.000+0000</td><td>192706.74000000002</td></tr><tr><td>2023-04-09T00:00:00.000+0000</td><td>221111.13</td></tr><tr><td>2023-04-10T00:00:00.000+0000</td><td>225588.80000000005</td></tr><tr><td>2023-04-11T00:00:00.000+0000</td><td>222930.14</td></tr><tr><td>2023-04-12T00:00:00.000+0000</td><td>246331.63</td></tr><tr><td>2023-04-13T00:00:00.000+0000</td><td>214979.47</td></tr><tr><td>2023-04-14T00:00:00.000+0000</td><td>220157.81999999998</td></tr><tr><td>2023-04-15T00:00:00.000+0000</td><td>196519.16999999998</td></tr><tr><td>2023-04-16T00:00:00.000+0000</td><td>203732.72000000003</td></tr><tr><td>2023-04-17T00:00:00.000+0000</td><td>186511.87000000002</td></tr><tr><td>2023-04-18T00:00:00.000+0000</td><td>193815.66000000003</td></tr><tr><td>2023-04-19T00:00:00.000+0000</td><td>198776.23</td></tr><tr><td>2023-04-20T00:00:00.000+0000</td><td>172947.48999999996</td></tr><tr><td>2023-04-21T00:00:00.000+0000</td><td>230763.25</td></tr><tr><td>2023-04-22T00:00:00.000+0000</td><td>196889.96</td></tr><tr><td>2023-04-23T00:00:00.000+0000</td><td>193996.75999999998</td></tr><tr><td>2023-04-24T00:00:00.000+0000</td><td>204420.61000000002</td></tr><tr><td>2023-04-25T00:00:00.000+0000</td><td>217356.34</td></tr><tr><td>2023-04-26T00:00:00.000+0000</td><td>194956.88</td></tr><tr><td>2023-04-27T00:00:00.000+0000</td><td>201873.1</td></tr><tr><td>2023-04-28T00:00:00.000+0000</td><td>191621.81</td></tr><tr><td>2023-04-29T00:00:00.000+0000</td><td>201343.86999999997</td></tr><tr><td>2023-04-30T00:00:00.000+0000</td><td>177754.43999999997</td></tr><tr><td>2023-05-01T00:00:00.000+0000</td><td>228842.16999999998</td></tr><tr><td>2023-05-02T00:00:00.000+0000</td><td>248936.62999999998</td></tr><tr><td>2023-05-03T00:00:00.000+0000</td><td>209371.33000000002</td></tr><tr><td>2023-05-04T00:00:00.000+0000</td><td>229315.41</td></tr><tr><td>2023-05-05T00:00:00.000+0000</td><td>173445.75</td></tr><tr><td>2023-05-06T00:00:00.000+0000</td><td>190398.06</td></tr><tr><td>2023-05-07T00:00:00.000+0000</td><td>203976.48</td></tr><tr><td>2023-05-08T00:00:00.000+0000</td><td>201228.41999999998</td></tr><tr><td>2023-05-09T00:00:00.000+0000</td><td>192657.36000000004</td></tr><tr><td>2023-05-10T00:00:00.000+0000</td><td>217005.62000000002</td></tr><tr><td>2023-05-11T00:00:00.000+0000</td><td>201047.92999999996</td></tr><tr><td>2023-05-12T00:00:00.000+0000</td><td>207874.54000000004</td></tr><tr><td>2023-05-13T00:00:00.000+0000</td><td>188203.55000000002</td></tr><tr><td>2023-05-14T00:00:00.000+0000</td><td>208348.40999999997</td></tr><tr><td>2023-05-15T00:00:00.000+0000</td><td>180759.31000000003</td></tr><tr><td>2023-05-16T00:00:00.000+0000</td><td>207386.36</td></tr><tr><td>2023-05-17T00:00:00.000+0000</td><td>206759.09999999998</td></tr><tr><td>2023-05-18T00:00:00.000+0000</td><td>204513.64</td></tr><tr><td>2023-05-19T00:00:00.000+0000</td><td>212083.22999999998</td></tr><tr><td>2023-05-20T00:00:00.000+0000</td><td>192943.07</td></tr><tr><td>2023-05-21T00:00:00.000+0000</td><td>177482.74</td></tr><tr><td>2023-05-22T00:00:00.000+0000</td><td>223496.62</td></tr><tr><td>2023-05-23T00:00:00.000+0000</td><td>211066.44</td></tr><tr><td>2023-05-24T00:00:00.000+0000</td><td>237195.96</td></tr><tr><td>2023-05-25T00:00:00.000+0000</td><td>231449.46</td></tr><tr><td>2023-05-26T00:00:00.000+0000</td><td>190181.84</td></tr><tr><td>2023-05-27T00:00:00.000+0000</td><td>212391.43999999997</td></tr><tr><td>2023-05-28T00:00:00.000+0000</td><td>220465.5</td></tr><tr><td>2023-05-29T00:00:00.000+0000</td><td>203013.32</td></tr><tr><td>2023-05-30T00:00:00.000+0000</td><td>215508.58</td></tr><tr><td>2023-05-31T00:00:00.000+0000</td><td>196146.58000000002</td></tr><tr><td>2023-06-01T00:00:00.000+0000</td><td>196086.48</td></tr><tr><td>2023-06-02T00:00:00.000+0000</td><td>197314.24</td></tr><tr><td>2023-06-03T00:00:00.000+0000</td><td>233797.96999999997</td></tr><tr><td>2023-06-04T00:00:00.000+0000</td><td>213613.46999999997</td></tr><tr><td>2023-06-05T00:00:00.000+0000</td><td>226791.85</td></tr><tr><td>2023-06-06T00:00:00.000+0000</td><td>198175.86000000002</td></tr><tr><td>2023-06-07T00:00:00.000+0000</td><td>188196.6</td></tr><tr><td>2023-06-08T00:00:00.000+0000</td><td>218803.45</td></tr><tr><td>2023-06-09T00:00:00.000+0000</td><td>227704.18</td></tr><tr><td>2023-06-10T00:00:00.000+0000</td><td>212848.47000000003</td></tr><tr><td>2023-06-11T00:00:00.000+0000</td><td>233515.68000000002</td></tr><tr><td>2023-06-12T00:00:00.000+0000</td><td>189646.27000000002</td></tr><tr><td>2023-06-13T00:00:00.000+0000</td><td>194442.85000000003</td></tr><tr><td>2023-06-14T00:00:00.000+0000</td><td>201204.36</td></tr><tr><td>2023-06-15T00:00:00.000+0000</td><td>212665.77000000002</td></tr><tr><td>2023-06-16T00:00:00.000+0000</td><td>195758.93</td></tr><tr><td>2023-06-17T00:00:00.000+0000</td><td>210548.09</td></tr><tr><td>2023-06-18T00:00:00.000+0000</td><td>181304.32</td></tr><tr><td>2023-06-19T00:00:00.000+0000</td><td>194135.34999999998</td></tr><tr><td>2023-06-20T00:00:00.000+0000</td><td>197180.80000000002</td></tr><tr><td>2023-06-21T00:00:00.000+0000</td><td>189994.4</td></tr><tr><td>2023-06-22T00:00:00.000+0000</td><td>227790.19999999998</td></tr><tr><td>2023-06-23T00:00:00.000+0000</td><td>206532.69</td></tr><tr><td>2023-06-24T00:00:00.000+0000</td><td>201044.16999999998</td></tr><tr><td>2023-06-25T00:00:00.000+0000</td><td>207896.51</td></tr><tr><td>2023-06-26T00:00:00.000+0000</td><td>206668.43</td></tr><tr><td>2023-06-27T00:00:00.000+0000</td><td>213408.3</td></tr><tr><td>2023-06-28T00:00:00.000+0000</td><td>204814.67</td></tr><tr><td>2023-06-29T00:00:00.000+0000</td><td>235187.81</td></tr><tr><td>2023-06-30T00:00:00.000+0000</td><td>216173.32000000004</td></tr><tr><td>2023-07-01T00:00:00.000+0000</td><td>198613.66000000003</td></tr><tr><td>2023-07-02T00:00:00.000+0000</td><td>214702.92000000004</td></tr><tr><td>2023-07-03T00:00:00.000+0000</td><td>205874.18000000005</td></tr><tr><td>2023-07-04T00:00:00.000+0000</td><td>205659.27</td></tr><tr><td>2023-07-05T00:00:00.000+0000</td><td>178772.95</td></tr><tr><td>2023-07-06T00:00:00.000+0000</td><td>216452.93</td></tr><tr><td>2023-07-07T00:00:00.000+0000</td><td>224201.69999999998</td></tr><tr><td>2023-07-08T00:00:00.000+0000</td><td>204704.03999999998</td></tr><tr><td>2023-07-09T00:00:00.000+0000</td><td>224949.25999999998</td></tr><tr><td>2023-07-10T00:00:00.000+0000</td><td>241796.38999999996</td></tr><tr><td>2023-07-11T00:00:00.000+0000</td><td>193209.31999999998</td></tr><tr><td>2023-07-12T00:00:00.000+0000</td><td>210348.03000000006</td></tr><tr><td>2023-07-13T00:00:00.000+0000</td><td>211217.24</td></tr><tr><td>2023-07-14T00:00:00.000+0000</td><td>211392.09</td></tr><tr><td>2023-07-15T00:00:00.000+0000</td><td>221605.20999999996</td></tr><tr><td>2023-07-16T00:00:00.000+0000</td><td>196222.24</td></tr><tr><td>2023-07-17T00:00:00.000+0000</td><td>227923.89</td></tr><tr><td>2023-07-18T00:00:00.000+0000</td><td>171506.71</td></tr><tr><td>2023-07-19T00:00:00.000+0000</td><td>202027.2</td></tr><tr><td>2023-07-20T00:00:00.000+0000</td><td>196506.34000000003</td></tr><tr><td>2023-07-21T00:00:00.000+0000</td><td>217618.94999999998</td></tr><tr><td>2023-07-22T00:00:00.000+0000</td><td>211212.19999999998</td></tr><tr><td>2023-07-23T00:00:00.000+0000</td><td>195421.07</td></tr><tr><td>2023-07-24T00:00:00.000+0000</td><td>232524.73</td></tr><tr><td>2023-07-25T00:00:00.000+0000</td><td>207487.87999999998</td></tr><tr><td>2023-07-26T00:00:00.000+0000</td><td>219428.84</td></tr><tr><td>2023-07-27T00:00:00.000+0000</td><td>223782.4</td></tr><tr><td>2023-07-28T00:00:00.000+0000</td><td>194132.46000000002</td></tr><tr><td>2023-07-29T00:00:00.000+0000</td><td>223988.67</td></tr><tr><td>2023-07-30T00:00:00.000+0000</td><td>214767.67</td></tr><tr><td>2023-07-31T00:00:00.000+0000</td><td>221072.49</td></tr><tr><td>2023-08-01T00:00:00.000+0000</td><td>257456.93</td></tr><tr><td>2023-08-02T00:00:00.000+0000</td><td>209734.26</td></tr><tr><td>2023-08-03T00:00:00.000+0000</td><td>229512.28999999998</td></tr><tr><td>2023-08-04T00:00:00.000+0000</td><td>226907.05000000002</td></tr><tr><td>2023-08-05T00:00:00.000+0000</td><td>225019.93999999997</td></tr><tr><td>2023-08-06T00:00:00.000+0000</td><td>201402.53999999995</td></tr><tr><td>2023-08-07T00:00:00.000+0000</td><td>231018.43999999997</td></tr><tr><td>2023-08-08T00:00:00.000+0000</td><td>198622.41999999998</td></tr><tr><td>2023-08-09T00:00:00.000+0000</td><td>225488.9</td></tr><tr><td>2023-08-10T00:00:00.000+0000</td><td>191412.91</td></tr><tr><td>2023-08-11T00:00:00.000+0000</td><td>213183.88</td></tr><tr><td>2023-08-12T00:00:00.000+0000</td><td>215112.46</td></tr><tr><td>2023-08-13T00:00:00.000+0000</td><td>207653.30000000005</td></tr><tr><td>2023-08-14T00:00:00.000+0000</td><td>210975.59999999998</td></tr><tr><td>2023-08-15T00:00:00.000+0000</td><td>224170.9</td></tr><tr><td>2023-08-16T00:00:00.000+0000</td><td>213421.02</td></tr><tr><td>2023-08-17T00:00:00.000+0000</td><td>190683.3</td></tr><tr><td>2023-08-18T00:00:00.000+0000</td><td>203279.25</td></tr><tr><td>2023-08-19T00:00:00.000+0000</td><td>180853.26</td></tr><tr><td>2023-08-20T00:00:00.000+0000</td><td>220779.85</td></tr><tr><td>2023-08-21T00:00:00.000+0000</td><td>214531.60999999996</td></tr><tr><td>2023-08-22T00:00:00.000+0000</td><td>197605.50000000003</td></tr><tr><td>2023-08-23T00:00:00.000+0000</td><td>214492.28</td></tr><tr><td>2023-08-24T00:00:00.000+0000</td><td>215935.33000000002</td></tr><tr><td>2023-08-25T00:00:00.000+0000</td><td>208677.05000000002</td></tr><tr><td>2023-08-26T00:00:00.000+0000</td><td>243047.88</td></tr><tr><td>2023-08-27T00:00:00.000+0000</td><td>188349.91000000003</td></tr><tr><td>2023-08-28T00:00:00.000+0000</td><td>192255.43999999997</td></tr><tr><td>2023-08-29T00:00:00.000+0000</td><td>212823.16</td></tr><tr><td>2023-08-30T00:00:00.000+0000</td><td>257437.09999999998</td></tr><tr><td>2023-08-31T00:00:00.000+0000</td><td>200400.01</td></tr><tr><td>2023-09-01T00:00:00.000+0000</td><td>212169.12</td></tr><tr><td>2023-09-02T00:00:00.000+0000</td><td>176933.19</td></tr><tr><td>2023-09-03T00:00:00.000+0000</td><td>186561.66999999998</td></tr><tr><td>2023-09-04T00:00:00.000+0000</td><td>187337.37</td></tr><tr><td>2023-09-05T00:00:00.000+0000</td><td>187468.46999999997</td></tr><tr><td>2023-09-06T00:00:00.000+0000</td><td>205117.49</td></tr><tr><td>2023-09-07T00:00:00.000+0000</td><td>195964.72</td></tr><tr><td>2023-09-08T00:00:00.000+0000</td><td>234659.99</td></tr><tr><td>2023-09-09T00:00:00.000+0000</td><td>207868.67</td></tr><tr><td>2023-09-10T00:00:00.000+0000</td><td>193749.22</td></tr><tr><td>2023-09-11T00:00:00.000+0000</td><td>228041.02000000002</td></tr><tr><td>2023-09-12T00:00:00.000+0000</td><td>228813.12999999998</td></tr><tr><td>2023-09-13T00:00:00.000+0000</td><td>210134.28000000006</td></tr><tr><td>2023-09-14T00:00:00.000+0000</td><td>188959.47000000003</td></tr><tr><td>2023-09-15T00:00:00.000+0000</td><td>174670.76000000004</td></tr><tr><td>2023-09-16T00:00:00.000+0000</td><td>218300.19</td></tr><tr><td>2023-09-17T00:00:00.000+0000</td><td>219452.94000000003</td></tr><tr><td>2023-09-18T00:00:00.000+0000</td><td>210636.57</td></tr><tr><td>2023-09-19T00:00:00.000+0000</td><td>179988.13</td></tr><tr><td>2023-09-20T00:00:00.000+0000</td><td>196088.03</td></tr><tr><td>2023-09-21T00:00:00.000+0000</td><td>204811.04</td></tr><tr><td>2023-09-22T00:00:00.000+0000</td><td>219997.75999999998</td></tr><tr><td>2023-09-23T00:00:00.000+0000</td><td>215564.39999999997</td></tr><tr><td>2023-09-24T00:00:00.000+0000</td><td>201990.38999999998</td></tr><tr><td>2023-09-25T00:00:00.000+0000</td><td>217185.15</td></tr><tr><td>2023-09-26T00:00:00.000+0000</td><td>187512.94999999995</td></tr><tr><td>2023-09-27T00:00:00.000+0000</td><td>201388.49999999997</td></tr><tr><td>2023-09-28T00:00:00.000+0000</td><td>206513.32</td></tr><tr><td>2023-09-29T00:00:00.000+0000</td><td>207193.52</td></tr><tr><td>2023-09-30T00:00:00.000+0000</td><td>188932.94999999998</td></tr><tr><td>2023-10-01T00:00:00.000+0000</td><td>208767.92999999996</td></tr><tr><td>2023-10-02T00:00:00.000+0000</td><td>193820.97000000003</td></tr><tr><td>2023-10-03T00:00:00.000+0000</td><td>216752.52</td></tr><tr><td>2023-10-04T00:00:00.000+0000</td><td>220318.04999999996</td></tr><tr><td>2023-10-05T00:00:00.000+0000</td><td>198719.14</td></tr><tr><td>2023-10-06T00:00:00.000+0000</td><td>208052.71</td></tr><tr><td>2023-10-07T00:00:00.000+0000</td><td>229462.19</td></tr><tr><td>2023-10-08T00:00:00.000+0000</td><td>239675.59</td></tr><tr><td>2023-10-09T00:00:00.000+0000</td><td>215937.64</td></tr><tr><td>2023-10-10T00:00:00.000+0000</td><td>202755.87000000002</td></tr><tr><td>2023-10-11T00:00:00.000+0000</td><td>205467.91</td></tr><tr><td>2023-10-12T00:00:00.000+0000</td><td>214449.88000000003</td></tr><tr><td>2023-10-13T00:00:00.000+0000</td><td>219860.54999999996</td></tr><tr><td>2023-10-14T00:00:00.000+0000</td><td>190458.09999999998</td></tr><tr><td>2023-10-15T00:00:00.000+0000</td><td>199940.20999999996</td></tr><tr><td>2023-10-16T00:00:00.000+0000</td><td>194346.6</td></tr><tr><td>2023-10-17T00:00:00.000+0000</td><td>206410.31000000003</td></tr><tr><td>2023-10-18T00:00:00.000+0000</td><td>213455.95999999996</td></tr><tr><td>2023-10-19T00:00:00.000+0000</td><td>211381.02000000002</td></tr><tr><td>2023-10-20T00:00:00.000+0000</td><td>200299.15</td></tr><tr><td>2023-10-21T00:00:00.000+0000</td><td>201112.97000000003</td></tr><tr><td>2023-10-22T00:00:00.000+0000</td><td>214874.75999999998</td></tr><tr><td>2023-10-23T00:00:00.000+0000</td><td>223934.31000000003</td></tr><tr><td>2023-10-24T00:00:00.000+0000</td><td>211088.31999999998</td></tr><tr><td>2023-10-25T00:00:00.000+0000</td><td>236624.31999999998</td></tr><tr><td>2023-10-26T00:00:00.000+0000</td><td>194848.29999999996</td></tr><tr><td>2023-10-27T00:00:00.000+0000</td><td>231033.37</td></tr><tr><td>2023-10-28T00:00:00.000+0000</td><td>189141.90000000002</td></tr><tr><td>2023-10-29T00:00:00.000+0000</td><td>218824.13</td></tr><tr><td>2023-10-30T00:00:00.000+0000</td><td>239202.21000000002</td></tr><tr><td>2023-10-31T00:00:00.000+0000</td><td>225662.25999999998</td></tr><tr><td>2023-11-01T00:00:00.000+0000</td><td>204752.40999999997</td></tr><tr><td>2023-11-02T00:00:00.000+0000</td><td>201444.90999999997</td></tr><tr><td>2023-11-03T00:00:00.000+0000</td><td>217905.78</td></tr><tr><td>2023-11-04T00:00:00.000+0000</td><td>216740.33</td></tr><tr><td>2023-11-05T00:00:00.000+0000</td><td>214516.78999999998</td></tr><tr><td>2023-11-06T00:00:00.000+0000</td><td>204453.18</td></tr><tr><td>2023-11-07T00:00:00.000+0000</td><td>197739.44999999998</td></tr><tr><td>2023-11-08T00:00:00.000+0000</td><td>197141.96999999997</td></tr><tr><td>2023-11-09T00:00:00.000+0000</td><td>223895.2</td></tr><tr><td>2023-11-10T00:00:00.000+0000</td><td>208608.4</td></tr><tr><td>2023-11-11T00:00:00.000+0000</td><td>238773.78</td></tr><tr><td>2023-11-12T00:00:00.000+0000</td><td>197310.38999999996</td></tr><tr><td>2023-11-13T00:00:00.000+0000</td><td>204114.7</td></tr><tr><td>2023-11-14T00:00:00.000+0000</td><td>216334.19</td></tr><tr><td>2023-11-15T00:00:00.000+0000</td><td>199861.6</td></tr><tr><td>2023-11-16T00:00:00.000+0000</td><td>197631.80999999997</td></tr><tr><td>2023-11-17T00:00:00.000+0000</td><td>184831.33999999997</td></tr><tr><td>2023-11-18T00:00:00.000+0000</td><td>190953.36</td></tr><tr><td>2023-11-19T00:00:00.000+0000</td><td>215088.33000000002</td></tr><tr><td>2023-11-20T00:00:00.000+0000</td><td>181016.36</td></tr><tr><td>2023-11-21T00:00:00.000+0000</td><td>205814.99</td></tr><tr><td>2023-11-22T00:00:00.000+0000</td><td>204955.33999999997</td></tr><tr><td>2023-11-23T00:00:00.000+0000</td><td>227231.26</td></tr><tr><td>2023-11-24T00:00:00.000+0000</td><td>196534.86000000002</td></tr><tr><td>2023-11-25T00:00:00.000+0000</td><td>214086.58000000002</td></tr><tr><td>2023-11-26T00:00:00.000+0000</td><td>196601.16999999998</td></tr><tr><td>2023-11-27T00:00:00.000+0000</td><td>209213.95</td></tr><tr><td>2023-11-28T00:00:00.000+0000</td><td>216255.6</td></tr><tr><td>2023-11-29T00:00:00.000+0000</td><td>194630.13</td></tr><tr><td>2023-11-30T00:00:00.000+0000</td><td>190003.56000000003</td></tr><tr><td>2023-12-01T00:00:00.000+0000</td><td>232234.30000000002</td></tr><tr><td>2023-12-02T00:00:00.000+0000</td><td>209174.36</td></tr><tr><td>2023-12-03T00:00:00.000+0000</td><td>222901.08000000002</td></tr><tr><td>2023-12-04T00:00:00.000+0000</td><td>207395.41000000003</td></tr><tr><td>2023-12-05T00:00:00.000+0000</td><td>219131.03000000003</td></tr><tr><td>2023-12-06T00:00:00.000+0000</td><td>199063.59000000003</td></tr><tr><td>2023-12-07T00:00:00.000+0000</td><td>208488.41999999998</td></tr><tr><td>2023-12-08T00:00:00.000+0000</td><td>192302.05</td></tr><tr><td>2023-12-09T00:00:00.000+0000</td><td>188510.44999999998</td></tr><tr><td>2023-12-10T00:00:00.000+0000</td><td>222832.6</td></tr><tr><td>2023-12-11T00:00:00.000+0000</td><td>233220.39</td></tr><tr><td>2023-12-12T00:00:00.000+0000</td><td>222096.62000000002</td></tr><tr><td>2023-12-13T00:00:00.000+0000</td><td>205030.23</td></tr><tr><td>2023-12-14T00:00:00.000+0000</td><td>204584.96</td></tr><tr><td>2023-12-15T00:00:00.000+0000</td><td>213588.21</td></tr><tr><td>2023-12-16T00:00:00.000+0000</td><td>222197.00999999998</td></tr><tr><td>2023-12-17T00:00:00.000+0000</td><td>217735.12</td></tr><tr><td>2023-12-18T00:00:00.000+0000</td><td>202612.75999999995</td></tr><tr><td>2023-12-19T00:00:00.000+0000</td><td>209978.92</td></tr><tr><td>2023-12-20T00:00:00.000+0000</td><td>212104.69000000003</td></tr><tr><td>2023-12-21T00:00:00.000+0000</td><td>205055.49000000002</td></tr><tr><td>2023-12-22T00:00:00.000+0000</td><td>233119.87</td></tr><tr><td>2023-12-23T00:00:00.000+0000</td><td>202145.77</td></tr><tr><td>2023-12-24T00:00:00.000+0000</td><td>198493.31</td></tr><tr><td>2023-12-25T00:00:00.000+0000</td><td>178994.25</td></tr><tr><td>2023-12-26T00:00:00.000+0000</td><td>218665.83</td></tr><tr><td>2023-12-27T00:00:00.000+0000</td><td>203866.28999999998</td></tr><tr><td>2023-12-28T00:00:00.000+0000</td><td>214142.27000000002</td></tr><tr><td>2023-12-29T00:00:00.000+0000</td><td>217244.66</td></tr><tr><td>2023-12-30T00:00:00.000+0000</td><td>187765.88999999998</td></tr><tr><td>2023-12-31T00:00:00.000+0000</td><td>212899.32</td></tr><tr><td>2024-01-01T00:00:00.000+0000</td><td>238416.90000000005</td></tr></tbody></table></div>"
      ]
     },
     "metadata": {
      "application/vnd.databricks.v1+output": {
       "addedWidgets": {},
       "aggData": [],
       "aggError": "",
       "aggOverflow": false,
       "aggSchema": [],
       "aggSeriesLimitReached": false,
       "aggType": "",
       "arguments": {},
       "columnCustomDisplayInfos": {},
       "data": [
        [
         "2023-01-01T00:00:00.000+0000",
         170050.13
        ],
        [
         "2023-01-02T00:00:00.000+0000",
         196744.01999999996
        ],
        [
         "2023-01-03T00:00:00.000+0000",
         200471.71000000002
        ],
        [
         "2023-01-04T00:00:00.000+0000",
         217944.76
        ],
        [
         "2023-01-05T00:00:00.000+0000",
         237703.44999999998
        ],
        [
         "2023-01-06T00:00:00.000+0000",
         212222.41
        ],
        [
         "2023-01-07T00:00:00.000+0000",
         167436.59000000003
        ],
        [
         "2023-01-08T00:00:00.000+0000",
         193414.92999999996
        ],
        [
         "2023-01-09T00:00:00.000+0000",
         225031.64
        ],
        [
         "2023-01-10T00:00:00.000+0000",
         213720.00000000003
        ],
        [
         "2023-01-11T00:00:00.000+0000",
         218126.14
        ],
        [
         "2023-01-12T00:00:00.000+0000",
         205232.12000000005
        ],
        [
         "2023-01-13T00:00:00.000+0000",
         214596.52
        ],
        [
         "2023-01-14T00:00:00.000+0000",
         216247.46999999997
        ],
        [
         "2023-01-15T00:00:00.000+0000",
         184039.55999999997
        ],
        [
         "2023-01-16T00:00:00.000+0000",
         193732.56999999998
        ],
        [
         "2023-01-17T00:00:00.000+0000",
         227506.71000000002
        ],
        [
         "2023-01-18T00:00:00.000+0000",
         217843.31
        ],
        [
         "2023-01-19T00:00:00.000+0000",
         238643.57
        ],
        [
         "2023-01-20T00:00:00.000+0000",
         206782.56000000003
        ],
        [
         "2023-01-21T00:00:00.000+0000",
         212051.07
        ],
        [
         "2023-01-22T00:00:00.000+0000",
         199146.55
        ],
        [
         "2023-01-23T00:00:00.000+0000",
         209791.09999999998
        ],
        [
         "2023-01-24T00:00:00.000+0000",
         209628.71000000002
        ],
        [
         "2023-01-25T00:00:00.000+0000",
         200951.56000000003
        ],
        [
         "2023-01-26T00:00:00.000+0000",
         197674.55000000002
        ],
        [
         "2023-01-27T00:00:00.000+0000",
         217773.11000000002
        ],
        [
         "2023-01-28T00:00:00.000+0000",
         200373.96
        ],
        [
         "2023-01-29T00:00:00.000+0000",
         211076.37
        ],
        [
         "2023-01-30T00:00:00.000+0000",
         197428.72000000003
        ],
        [
         "2023-01-31T00:00:00.000+0000",
         196336.04000000004
        ],
        [
         "2023-02-01T00:00:00.000+0000",
         219440.05
        ],
        [
         "2023-02-02T00:00:00.000+0000",
         190405.73
        ],
        [
         "2023-02-03T00:00:00.000+0000",
         219298.64
        ],
        [
         "2023-02-04T00:00:00.000+0000",
         192033.25
        ],
        [
         "2023-02-05T00:00:00.000+0000",
         205497.89999999997
        ],
        [
         "2023-02-06T00:00:00.000+0000",
         222569.92
        ],
        [
         "2023-02-07T00:00:00.000+0000",
         218677.91999999995
        ],
        [
         "2023-02-08T00:00:00.000+0000",
         209101.91999999998
        ],
        [
         "2023-02-09T00:00:00.000+0000",
         194751.83
        ],
        [
         "2023-02-10T00:00:00.000+0000",
         210155.71
        ],
        [
         "2023-02-11T00:00:00.000+0000",
         209651.02000000002
        ],
        [
         "2023-02-12T00:00:00.000+0000",
         212767.84
        ],
        [
         "2023-02-13T00:00:00.000+0000",
         220318.37999999998
        ],
        [
         "2023-02-14T00:00:00.000+0000",
         200619.08999999997
        ],
        [
         "2023-02-15T00:00:00.000+0000",
         225438.41999999998
        ],
        [
         "2023-02-16T00:00:00.000+0000",
         185669.46
        ],
        [
         "2023-02-17T00:00:00.000+0000",
         226685.51
        ],
        [
         "2023-02-18T00:00:00.000+0000",
         202499.27000000002
        ],
        [
         "2023-02-19T00:00:00.000+0000",
         202835.36
        ],
        [
         "2023-02-20T00:00:00.000+0000",
         230687.93
        ],
        [
         "2023-02-21T00:00:00.000+0000",
         209566.87999999998
        ],
        [
         "2023-02-22T00:00:00.000+0000",
         213799.72000000003
        ],
        [
         "2023-02-23T00:00:00.000+0000",
         204895.74000000002
        ],
        [
         "2023-02-24T00:00:00.000+0000",
         226860.90999999997
        ],
        [
         "2023-02-25T00:00:00.000+0000",
         218636.78000000003
        ],
        [
         "2023-02-26T00:00:00.000+0000",
         206883.06
        ],
        [
         "2023-02-27T00:00:00.000+0000",
         199990.19000000003
        ],
        [
         "2023-02-28T00:00:00.000+0000",
         192681.06000000003
        ],
        [
         "2023-03-01T00:00:00.000+0000",
         199817.93
        ],
        [
         "2023-03-02T00:00:00.000+0000",
         197976.22999999998
        ],
        [
         "2023-03-03T00:00:00.000+0000",
         203167.58
        ],
        [
         "2023-03-04T00:00:00.000+0000",
         213204.93999999997
        ],
        [
         "2023-03-05T00:00:00.000+0000",
         221450.5
        ],
        [
         "2023-03-06T00:00:00.000+0000",
         237023.13
        ],
        [
         "2023-03-07T00:00:00.000+0000",
         229826.44999999995
        ],
        [
         "2023-03-08T00:00:00.000+0000",
         224305.1
        ],
        [
         "2023-03-09T00:00:00.000+0000",
         221020.80999999997
        ],
        [
         "2023-03-10T00:00:00.000+0000",
         198330.71
        ],
        [
         "2023-03-11T00:00:00.000+0000",
         210291.5
        ],
        [
         "2023-03-12T00:00:00.000+0000",
         185806.65
        ],
        [
         "2023-03-13T00:00:00.000+0000",
         207924.22
        ],
        [
         "2023-03-14T00:00:00.000+0000",
         226347.94
        ],
        [
         "2023-03-15T00:00:00.000+0000",
         209734.88999999998
        ],
        [
         "2023-03-16T00:00:00.000+0000",
         166233.75
        ],
        [
         "2023-03-17T00:00:00.000+0000",
         203017.17000000004
        ],
        [
         "2023-03-18T00:00:00.000+0000",
         204958.25
        ],
        [
         "2023-03-19T00:00:00.000+0000",
         212758.2
        ],
        [
         "2023-03-20T00:00:00.000+0000",
         227277.54000000004
        ],
        [
         "2023-03-21T00:00:00.000+0000",
         213980.12999999998
        ],
        [
         "2023-03-22T00:00:00.000+0000",
         233762.81999999998
        ],
        [
         "2023-03-23T00:00:00.000+0000",
         200501.44999999998
        ],
        [
         "2023-03-24T00:00:00.000+0000",
         190784.55000000005
        ],
        [
         "2023-03-25T00:00:00.000+0000",
         218685.13
        ],
        [
         "2023-03-26T00:00:00.000+0000",
         198808.65
        ],
        [
         "2023-03-27T00:00:00.000+0000",
         264310.55000000005
        ],
        [
         "2023-03-28T00:00:00.000+0000",
         220794.88999999998
        ],
        [
         "2023-03-29T00:00:00.000+0000",
         213026.66
        ],
        [
         "2023-03-30T00:00:00.000+0000",
         199752.53
        ],
        [
         "2023-03-31T00:00:00.000+0000",
         208001.09
        ],
        [
         "2023-04-01T00:00:00.000+0000",
         209314.47000000003
        ],
        [
         "2023-04-02T00:00:00.000+0000",
         200372.41999999998
        ],
        [
         "2023-04-03T00:00:00.000+0000",
         213609.8
        ],
        [
         "2023-04-04T00:00:00.000+0000",
         203809.29999999996
        ],
        [
         "2023-04-05T00:00:00.000+0000",
         214987.65000000002
        ],
        [
         "2023-04-06T00:00:00.000+0000",
         196271.36000000002
        ],
        [
         "2023-04-07T00:00:00.000+0000",
         199122.07
        ],
        [
         "2023-04-08T00:00:00.000+0000",
         192706.74000000002
        ],
        [
         "2023-04-09T00:00:00.000+0000",
         221111.13
        ],
        [
         "2023-04-10T00:00:00.000+0000",
         225588.80000000005
        ],
        [
         "2023-04-11T00:00:00.000+0000",
         222930.14
        ],
        [
         "2023-04-12T00:00:00.000+0000",
         246331.63
        ],
        [
         "2023-04-13T00:00:00.000+0000",
         214979.47
        ],
        [
         "2023-04-14T00:00:00.000+0000",
         220157.81999999998
        ],
        [
         "2023-04-15T00:00:00.000+0000",
         196519.16999999998
        ],
        [
         "2023-04-16T00:00:00.000+0000",
         203732.72000000003
        ],
        [
         "2023-04-17T00:00:00.000+0000",
         186511.87000000002
        ],
        [
         "2023-04-18T00:00:00.000+0000",
         193815.66000000003
        ],
        [
         "2023-04-19T00:00:00.000+0000",
         198776.23
        ],
        [
         "2023-04-20T00:00:00.000+0000",
         172947.48999999996
        ],
        [
         "2023-04-21T00:00:00.000+0000",
         230763.25
        ],
        [
         "2023-04-22T00:00:00.000+0000",
         196889.96
        ],
        [
         "2023-04-23T00:00:00.000+0000",
         193996.75999999998
        ],
        [
         "2023-04-24T00:00:00.000+0000",
         204420.61000000002
        ],
        [
         "2023-04-25T00:00:00.000+0000",
         217356.34
        ],
        [
         "2023-04-26T00:00:00.000+0000",
         194956.88
        ],
        [
         "2023-04-27T00:00:00.000+0000",
         201873.1
        ],
        [
         "2023-04-28T00:00:00.000+0000",
         191621.81
        ],
        [
         "2023-04-29T00:00:00.000+0000",
         201343.86999999997
        ],
        [
         "2023-04-30T00:00:00.000+0000",
         177754.43999999997
        ],
        [
         "2023-05-01T00:00:00.000+0000",
         228842.16999999998
        ],
        [
         "2023-05-02T00:00:00.000+0000",
         248936.62999999998
        ],
        [
         "2023-05-03T00:00:00.000+0000",
         209371.33000000002
        ],
        [
         "2023-05-04T00:00:00.000+0000",
         229315.41
        ],
        [
         "2023-05-05T00:00:00.000+0000",
         173445.75
        ],
        [
         "2023-05-06T00:00:00.000+0000",
         190398.06
        ],
        [
         "2023-05-07T00:00:00.000+0000",
         203976.48
        ],
        [
         "2023-05-08T00:00:00.000+0000",
         201228.41999999998
        ],
        [
         "2023-05-09T00:00:00.000+0000",
         192657.36000000004
        ],
        [
         "2023-05-10T00:00:00.000+0000",
         217005.62000000002
        ],
        [
         "2023-05-11T00:00:00.000+0000",
         201047.92999999996
        ],
        [
         "2023-05-12T00:00:00.000+0000",
         207874.54000000004
        ],
        [
         "2023-05-13T00:00:00.000+0000",
         188203.55000000002
        ],
        [
         "2023-05-14T00:00:00.000+0000",
         208348.40999999997
        ],
        [
         "2023-05-15T00:00:00.000+0000",
         180759.31000000003
        ],
        [
         "2023-05-16T00:00:00.000+0000",
         207386.36
        ],
        [
         "2023-05-17T00:00:00.000+0000",
         206759.09999999998
        ],
        [
         "2023-05-18T00:00:00.000+0000",
         204513.64
        ],
        [
         "2023-05-19T00:00:00.000+0000",
         212083.22999999998
        ],
        [
         "2023-05-20T00:00:00.000+0000",
         192943.07
        ],
        [
         "2023-05-21T00:00:00.000+0000",
         177482.74
        ],
        [
         "2023-05-22T00:00:00.000+0000",
         223496.62
        ],
        [
         "2023-05-23T00:00:00.000+0000",
         211066.44
        ],
        [
         "2023-05-24T00:00:00.000+0000",
         237195.96
        ],
        [
         "2023-05-25T00:00:00.000+0000",
         231449.46
        ],
        [
         "2023-05-26T00:00:00.000+0000",
         190181.84
        ],
        [
         "2023-05-27T00:00:00.000+0000",
         212391.43999999997
        ],
        [
         "2023-05-28T00:00:00.000+0000",
         220465.5
        ],
        [
         "2023-05-29T00:00:00.000+0000",
         203013.32
        ],
        [
         "2023-05-30T00:00:00.000+0000",
         215508.58
        ],
        [
         "2023-05-31T00:00:00.000+0000",
         196146.58000000002
        ],
        [
         "2023-06-01T00:00:00.000+0000",
         196086.48
        ],
        [
         "2023-06-02T00:00:00.000+0000",
         197314.24
        ],
        [
         "2023-06-03T00:00:00.000+0000",
         233797.96999999997
        ],
        [
         "2023-06-04T00:00:00.000+0000",
         213613.46999999997
        ],
        [
         "2023-06-05T00:00:00.000+0000",
         226791.85
        ],
        [
         "2023-06-06T00:00:00.000+0000",
         198175.86000000002
        ],
        [
         "2023-06-07T00:00:00.000+0000",
         188196.6
        ],
        [
         "2023-06-08T00:00:00.000+0000",
         218803.45
        ],
        [
         "2023-06-09T00:00:00.000+0000",
         227704.18
        ],
        [
         "2023-06-10T00:00:00.000+0000",
         212848.47000000003
        ],
        [
         "2023-06-11T00:00:00.000+0000",
         233515.68000000002
        ],
        [
         "2023-06-12T00:00:00.000+0000",
         189646.27000000002
        ],
        [
         "2023-06-13T00:00:00.000+0000",
         194442.85000000003
        ],
        [
         "2023-06-14T00:00:00.000+0000",
         201204.36
        ],
        [
         "2023-06-15T00:00:00.000+0000",
         212665.77000000002
        ],
        [
         "2023-06-16T00:00:00.000+0000",
         195758.93
        ],
        [
         "2023-06-17T00:00:00.000+0000",
         210548.09
        ],
        [
         "2023-06-18T00:00:00.000+0000",
         181304.32
        ],
        [
         "2023-06-19T00:00:00.000+0000",
         194135.34999999998
        ],
        [
         "2023-06-20T00:00:00.000+0000",
         197180.80000000002
        ],
        [
         "2023-06-21T00:00:00.000+0000",
         189994.4
        ],
        [
         "2023-06-22T00:00:00.000+0000",
         227790.19999999998
        ],
        [
         "2023-06-23T00:00:00.000+0000",
         206532.69
        ],
        [
         "2023-06-24T00:00:00.000+0000",
         201044.16999999998
        ],
        [
         "2023-06-25T00:00:00.000+0000",
         207896.51
        ],
        [
         "2023-06-26T00:00:00.000+0000",
         206668.43
        ],
        [
         "2023-06-27T00:00:00.000+0000",
         213408.3
        ],
        [
         "2023-06-28T00:00:00.000+0000",
         204814.67
        ],
        [
         "2023-06-29T00:00:00.000+0000",
         235187.81
        ],
        [
         "2023-06-30T00:00:00.000+0000",
         216173.32000000004
        ],
        [
         "2023-07-01T00:00:00.000+0000",
         198613.66000000003
        ],
        [
         "2023-07-02T00:00:00.000+0000",
         214702.92000000004
        ],
        [
         "2023-07-03T00:00:00.000+0000",
         205874.18000000005
        ],
        [
         "2023-07-04T00:00:00.000+0000",
         205659.27
        ],
        [
         "2023-07-05T00:00:00.000+0000",
         178772.95
        ],
        [
         "2023-07-06T00:00:00.000+0000",
         216452.93
        ],
        [
         "2023-07-07T00:00:00.000+0000",
         224201.69999999998
        ],
        [
         "2023-07-08T00:00:00.000+0000",
         204704.03999999998
        ],
        [
         "2023-07-09T00:00:00.000+0000",
         224949.25999999998
        ],
        [
         "2023-07-10T00:00:00.000+0000",
         241796.38999999996
        ],
        [
         "2023-07-11T00:00:00.000+0000",
         193209.31999999998
        ],
        [
         "2023-07-12T00:00:00.000+0000",
         210348.03000000006
        ],
        [
         "2023-07-13T00:00:00.000+0000",
         211217.24
        ],
        [
         "2023-07-14T00:00:00.000+0000",
         211392.09
        ],
        [
         "2023-07-15T00:00:00.000+0000",
         221605.20999999996
        ],
        [
         "2023-07-16T00:00:00.000+0000",
         196222.24
        ],
        [
         "2023-07-17T00:00:00.000+0000",
         227923.89
        ],
        [
         "2023-07-18T00:00:00.000+0000",
         171506.71
        ],
        [
         "2023-07-19T00:00:00.000+0000",
         202027.2
        ],
        [
         "2023-07-20T00:00:00.000+0000",
         196506.34000000003
        ],
        [
         "2023-07-21T00:00:00.000+0000",
         217618.94999999998
        ],
        [
         "2023-07-22T00:00:00.000+0000",
         211212.19999999998
        ],
        [
         "2023-07-23T00:00:00.000+0000",
         195421.07
        ],
        [
         "2023-07-24T00:00:00.000+0000",
         232524.73
        ],
        [
         "2023-07-25T00:00:00.000+0000",
         207487.87999999998
        ],
        [
         "2023-07-26T00:00:00.000+0000",
         219428.84
        ],
        [
         "2023-07-27T00:00:00.000+0000",
         223782.4
        ],
        [
         "2023-07-28T00:00:00.000+0000",
         194132.46000000002
        ],
        [
         "2023-07-29T00:00:00.000+0000",
         223988.67
        ],
        [
         "2023-07-30T00:00:00.000+0000",
         214767.67
        ],
        [
         "2023-07-31T00:00:00.000+0000",
         221072.49
        ],
        [
         "2023-08-01T00:00:00.000+0000",
         257456.93
        ],
        [
         "2023-08-02T00:00:00.000+0000",
         209734.26
        ],
        [
         "2023-08-03T00:00:00.000+0000",
         229512.28999999998
        ],
        [
         "2023-08-04T00:00:00.000+0000",
         226907.05000000002
        ],
        [
         "2023-08-05T00:00:00.000+0000",
         225019.93999999997
        ],
        [
         "2023-08-06T00:00:00.000+0000",
         201402.53999999995
        ],
        [
         "2023-08-07T00:00:00.000+0000",
         231018.43999999997
        ],
        [
         "2023-08-08T00:00:00.000+0000",
         198622.41999999998
        ],
        [
         "2023-08-09T00:00:00.000+0000",
         225488.9
        ],
        [
         "2023-08-10T00:00:00.000+0000",
         191412.91
        ],
        [
         "2023-08-11T00:00:00.000+0000",
         213183.88
        ],
        [
         "2023-08-12T00:00:00.000+0000",
         215112.46
        ],
        [
         "2023-08-13T00:00:00.000+0000",
         207653.30000000005
        ],
        [
         "2023-08-14T00:00:00.000+0000",
         210975.59999999998
        ],
        [
         "2023-08-15T00:00:00.000+0000",
         224170.9
        ],
        [
         "2023-08-16T00:00:00.000+0000",
         213421.02
        ],
        [
         "2023-08-17T00:00:00.000+0000",
         190683.3
        ],
        [
         "2023-08-18T00:00:00.000+0000",
         203279.25
        ],
        [
         "2023-08-19T00:00:00.000+0000",
         180853.26
        ],
        [
         "2023-08-20T00:00:00.000+0000",
         220779.85
        ],
        [
         "2023-08-21T00:00:00.000+0000",
         214531.60999999996
        ],
        [
         "2023-08-22T00:00:00.000+0000",
         197605.50000000003
        ],
        [
         "2023-08-23T00:00:00.000+0000",
         214492.28
        ],
        [
         "2023-08-24T00:00:00.000+0000",
         215935.33000000002
        ],
        [
         "2023-08-25T00:00:00.000+0000",
         208677.05000000002
        ],
        [
         "2023-08-26T00:00:00.000+0000",
         243047.88
        ],
        [
         "2023-08-27T00:00:00.000+0000",
         188349.91000000003
        ],
        [
         "2023-08-28T00:00:00.000+0000",
         192255.43999999997
        ],
        [
         "2023-08-29T00:00:00.000+0000",
         212823.16
        ],
        [
         "2023-08-30T00:00:00.000+0000",
         257437.09999999998
        ],
        [
         "2023-08-31T00:00:00.000+0000",
         200400.01
        ],
        [
         "2023-09-01T00:00:00.000+0000",
         212169.12
        ],
        [
         "2023-09-02T00:00:00.000+0000",
         176933.19
        ],
        [
         "2023-09-03T00:00:00.000+0000",
         186561.66999999998
        ],
        [
         "2023-09-04T00:00:00.000+0000",
         187337.37
        ],
        [
         "2023-09-05T00:00:00.000+0000",
         187468.46999999997
        ],
        [
         "2023-09-06T00:00:00.000+0000",
         205117.49
        ],
        [
         "2023-09-07T00:00:00.000+0000",
         195964.72
        ],
        [
         "2023-09-08T00:00:00.000+0000",
         234659.99
        ],
        [
         "2023-09-09T00:00:00.000+0000",
         207868.67
        ],
        [
         "2023-09-10T00:00:00.000+0000",
         193749.22
        ],
        [
         "2023-09-11T00:00:00.000+0000",
         228041.02000000002
        ],
        [
         "2023-09-12T00:00:00.000+0000",
         228813.12999999998
        ],
        [
         "2023-09-13T00:00:00.000+0000",
         210134.28000000006
        ],
        [
         "2023-09-14T00:00:00.000+0000",
         188959.47000000003
        ],
        [
         "2023-09-15T00:00:00.000+0000",
         174670.76000000004
        ],
        [
         "2023-09-16T00:00:00.000+0000",
         218300.19
        ],
        [
         "2023-09-17T00:00:00.000+0000",
         219452.94000000003
        ],
        [
         "2023-09-18T00:00:00.000+0000",
         210636.57
        ],
        [
         "2023-09-19T00:00:00.000+0000",
         179988.13
        ],
        [
         "2023-09-20T00:00:00.000+0000",
         196088.03
        ],
        [
         "2023-09-21T00:00:00.000+0000",
         204811.04
        ],
        [
         "2023-09-22T00:00:00.000+0000",
         219997.75999999998
        ],
        [
         "2023-09-23T00:00:00.000+0000",
         215564.39999999997
        ],
        [
         "2023-09-24T00:00:00.000+0000",
         201990.38999999998
        ],
        [
         "2023-09-25T00:00:00.000+0000",
         217185.15
        ],
        [
         "2023-09-26T00:00:00.000+0000",
         187512.94999999995
        ],
        [
         "2023-09-27T00:00:00.000+0000",
         201388.49999999997
        ],
        [
         "2023-09-28T00:00:00.000+0000",
         206513.32
        ],
        [
         "2023-09-29T00:00:00.000+0000",
         207193.52
        ],
        [
         "2023-09-30T00:00:00.000+0000",
         188932.94999999998
        ],
        [
         "2023-10-01T00:00:00.000+0000",
         208767.92999999996
        ],
        [
         "2023-10-02T00:00:00.000+0000",
         193820.97000000003
        ],
        [
         "2023-10-03T00:00:00.000+0000",
         216752.52
        ],
        [
         "2023-10-04T00:00:00.000+0000",
         220318.04999999996
        ],
        [
         "2023-10-05T00:00:00.000+0000",
         198719.14
        ],
        [
         "2023-10-06T00:00:00.000+0000",
         208052.71
        ],
        [
         "2023-10-07T00:00:00.000+0000",
         229462.19
        ],
        [
         "2023-10-08T00:00:00.000+0000",
         239675.59
        ],
        [
         "2023-10-09T00:00:00.000+0000",
         215937.64
        ],
        [
         "2023-10-10T00:00:00.000+0000",
         202755.87000000002
        ],
        [
         "2023-10-11T00:00:00.000+0000",
         205467.91
        ],
        [
         "2023-10-12T00:00:00.000+0000",
         214449.88000000003
        ],
        [
         "2023-10-13T00:00:00.000+0000",
         219860.54999999996
        ],
        [
         "2023-10-14T00:00:00.000+0000",
         190458.09999999998
        ],
        [
         "2023-10-15T00:00:00.000+0000",
         199940.20999999996
        ],
        [
         "2023-10-16T00:00:00.000+0000",
         194346.6
        ],
        [
         "2023-10-17T00:00:00.000+0000",
         206410.31000000003
        ],
        [
         "2023-10-18T00:00:00.000+0000",
         213455.95999999996
        ],
        [
         "2023-10-19T00:00:00.000+0000",
         211381.02000000002
        ],
        [
         "2023-10-20T00:00:00.000+0000",
         200299.15
        ],
        [
         "2023-10-21T00:00:00.000+0000",
         201112.97000000003
        ],
        [
         "2023-10-22T00:00:00.000+0000",
         214874.75999999998
        ],
        [
         "2023-10-23T00:00:00.000+0000",
         223934.31000000003
        ],
        [
         "2023-10-24T00:00:00.000+0000",
         211088.31999999998
        ],
        [
         "2023-10-25T00:00:00.000+0000",
         236624.31999999998
        ],
        [
         "2023-10-26T00:00:00.000+0000",
         194848.29999999996
        ],
        [
         "2023-10-27T00:00:00.000+0000",
         231033.37
        ],
        [
         "2023-10-28T00:00:00.000+0000",
         189141.90000000002
        ],
        [
         "2023-10-29T00:00:00.000+0000",
         218824.13
        ],
        [
         "2023-10-30T00:00:00.000+0000",
         239202.21000000002
        ],
        [
         "2023-10-31T00:00:00.000+0000",
         225662.25999999998
        ],
        [
         "2023-11-01T00:00:00.000+0000",
         204752.40999999997
        ],
        [
         "2023-11-02T00:00:00.000+0000",
         201444.90999999997
        ],
        [
         "2023-11-03T00:00:00.000+0000",
         217905.78
        ],
        [
         "2023-11-04T00:00:00.000+0000",
         216740.33
        ],
        [
         "2023-11-05T00:00:00.000+0000",
         214516.78999999998
        ],
        [
         "2023-11-06T00:00:00.000+0000",
         204453.18
        ],
        [
         "2023-11-07T00:00:00.000+0000",
         197739.44999999998
        ],
        [
         "2023-11-08T00:00:00.000+0000",
         197141.96999999997
        ],
        [
         "2023-11-09T00:00:00.000+0000",
         223895.2
        ],
        [
         "2023-11-10T00:00:00.000+0000",
         208608.4
        ],
        [
         "2023-11-11T00:00:00.000+0000",
         238773.78
        ],
        [
         "2023-11-12T00:00:00.000+0000",
         197310.38999999996
        ],
        [
         "2023-11-13T00:00:00.000+0000",
         204114.7
        ],
        [
         "2023-11-14T00:00:00.000+0000",
         216334.19
        ],
        [
         "2023-11-15T00:00:00.000+0000",
         199861.6
        ],
        [
         "2023-11-16T00:00:00.000+0000",
         197631.80999999997
        ],
        [
         "2023-11-17T00:00:00.000+0000",
         184831.33999999997
        ],
        [
         "2023-11-18T00:00:00.000+0000",
         190953.36
        ],
        [
         "2023-11-19T00:00:00.000+0000",
         215088.33000000002
        ],
        [
         "2023-11-20T00:00:00.000+0000",
         181016.36
        ],
        [
         "2023-11-21T00:00:00.000+0000",
         205814.99
        ],
        [
         "2023-11-22T00:00:00.000+0000",
         204955.33999999997
        ],
        [
         "2023-11-23T00:00:00.000+0000",
         227231.26
        ],
        [
         "2023-11-24T00:00:00.000+0000",
         196534.86000000002
        ],
        [
         "2023-11-25T00:00:00.000+0000",
         214086.58000000002
        ],
        [
         "2023-11-26T00:00:00.000+0000",
         196601.16999999998
        ],
        [
         "2023-11-27T00:00:00.000+0000",
         209213.95
        ],
        [
         "2023-11-28T00:00:00.000+0000",
         216255.6
        ],
        [
         "2023-11-29T00:00:00.000+0000",
         194630.13
        ],
        [
         "2023-11-30T00:00:00.000+0000",
         190003.56000000003
        ],
        [
         "2023-12-01T00:00:00.000+0000",
         232234.30000000002
        ],
        [
         "2023-12-02T00:00:00.000+0000",
         209174.36
        ],
        [
         "2023-12-03T00:00:00.000+0000",
         222901.08000000002
        ],
        [
         "2023-12-04T00:00:00.000+0000",
         207395.41000000003
        ],
        [
         "2023-12-05T00:00:00.000+0000",
         219131.03000000003
        ],
        [
         "2023-12-06T00:00:00.000+0000",
         199063.59000000003
        ],
        [
         "2023-12-07T00:00:00.000+0000",
         208488.41999999998
        ],
        [
         "2023-12-08T00:00:00.000+0000",
         192302.05
        ],
        [
         "2023-12-09T00:00:00.000+0000",
         188510.44999999998
        ],
        [
         "2023-12-10T00:00:00.000+0000",
         222832.6
        ],
        [
         "2023-12-11T00:00:00.000+0000",
         233220.39
        ],
        [
         "2023-12-12T00:00:00.000+0000",
         222096.62000000002
        ],
        [
         "2023-12-13T00:00:00.000+0000",
         205030.23
        ],
        [
         "2023-12-14T00:00:00.000+0000",
         204584.96
        ],
        [
         "2023-12-15T00:00:00.000+0000",
         213588.21
        ],
        [
         "2023-12-16T00:00:00.000+0000",
         222197.00999999998
        ],
        [
         "2023-12-17T00:00:00.000+0000",
         217735.12
        ],
        [
         "2023-12-18T00:00:00.000+0000",
         202612.75999999995
        ],
        [
         "2023-12-19T00:00:00.000+0000",
         209978.92
        ],
        [
         "2023-12-20T00:00:00.000+0000",
         212104.69000000003
        ],
        [
         "2023-12-21T00:00:00.000+0000",
         205055.49000000002
        ],
        [
         "2023-12-22T00:00:00.000+0000",
         233119.87
        ],
        [
         "2023-12-23T00:00:00.000+0000",
         202145.77
        ],
        [
         "2023-12-24T00:00:00.000+0000",
         198493.31
        ],
        [
         "2023-12-25T00:00:00.000+0000",
         178994.25
        ],
        [
         "2023-12-26T00:00:00.000+0000",
         218665.83
        ],
        [
         "2023-12-27T00:00:00.000+0000",
         203866.28999999998
        ],
        [
         "2023-12-28T00:00:00.000+0000",
         214142.27000000002
        ],
        [
         "2023-12-29T00:00:00.000+0000",
         217244.66
        ],
        [
         "2023-12-30T00:00:00.000+0000",
         187765.88999999998
        ],
        [
         "2023-12-31T00:00:00.000+0000",
         212899.32
        ],
        [
         "2024-01-01T00:00:00.000+0000",
         238416.90000000005
        ]
       ],
       "datasetInfos": [],
       "dbfsResultPath": null,
       "isJsonSchema": true,
       "metadata": {},
       "overflow": false,
       "plotOptions": {
        "customPlotOptions": {},
        "displayType": "table",
        "pivotAggregation": null,
        "pivotColumns": null,
        "xColumns": null,
        "yColumns": null
       },
       "removedWidgets": [],
       "schema": [
        {
         "metadata": "{}",
         "name": "date",
         "type": "\"timestamp\""
        },
        {
         "metadata": "{}",
         "name": "sum(total_price)",
         "type": "\"double\""
        }
       ],
       "type": "table"
      }
     },
     "output_type": "display_data"
    },
    {
     "output_type": "display_data",
     "data": {
      "text/plain": [
       "Databricks visualization. Run in Databricks to view."
      ]
     },
     "metadata": {
      "application/vnd.databricks.v1.subcommand+json": {
       "baseErrorDetails": null,
       "bindings": {},
       "collapsed": false,
       "command": "%python\n__backend_agg_display_orig = display\n__backend_agg_dfs = []\ndef __backend_agg_display_new(df):\n    __backend_agg_df_modules = [\"pandas.core.frame\", \"databricks.koalas.frame\", \"pyspark.sql.dataframe\", \"pyspark.pandas.frame\", \"pyspark.sql.connect.dataframe\"]\n    if (type(df).__module__ in __backend_agg_df_modules and type(df).__name__ == 'DataFrame') or isinstance(df, list):\n        __backend_agg_dfs.append(df)\n\ndisplay = __backend_agg_display_new\n\ndef __backend_agg_user_code_fn():\n    import base64\n    exec(base64.standard_b64decode(\"IyBFdm9sdcOnw6NvIGRhcyBWZW5kYXMgcG9yIERhdGEKZGZfc2FsZXNfcGVyX2RheSA9IGRmX3NwYXJrLmdyb3VwQnkoImRhdGUiKS5zdW0oInRvdGFsX3ByaWNlIikub3JkZXJCeSgiZGF0ZSIpCmRpc3BsYXkoZGZfc2FsZXNfcGVyX2RheSk=\").decode())\n\ntry:\n    # run user code\n    __backend_agg_user_code_fn()\n\n    #reset display function\n    display = __backend_agg_display_orig\n\n    if len(__backend_agg_dfs) > 0:\n        # create a temp view\n        if type(__backend_agg_dfs[0]).__module__ == \"databricks.koalas.frame\":\n            # koalas dataframe\n            __backend_agg_dfs[0].to_spark().createOrReplaceTempView(\"DatabricksVieweeebba4\")\n        elif type(__backend_agg_dfs[0]).__module__ == \"pandas.core.frame\" or isinstance(__backend_agg_dfs[0], list):\n            # pandas dataframe\n            spark.createDataFrame(__backend_agg_dfs[0]).createOrReplaceTempView(\"DatabricksVieweeebba4\")\n        else:\n            __backend_agg_dfs[0].createOrReplaceTempView(\"DatabricksVieweeebba4\")\n        #run backend agg\n        display(spark.sql(\"\"\"WITH q AS (select * from DatabricksVieweeebba4) SELECT DATE_TRUNC('DAY',`date`) `column_7612c2cd44`,SUM(`sum(total_price)`) `column_7612c2cd41` FROM q GROUP BY `column_7612c2cd44`\"\"\"))\n    else:\n        displayHTML(\"dataframe no longer exists. If you're using dataframe.display(), use display(dataframe) instead.\")\n\n\nfinally:\n    spark.sql(\"drop view if exists DatabricksVieweeebba4\")\n    display = __backend_agg_display_orig\n    del __backend_agg_display_new\n    del __backend_agg_display_orig\n    del __backend_agg_dfs\n    del __backend_agg_user_code_fn\n\n",
       "commandTitle": "Visualização 1",
       "commandType": "auto",
       "commandVersion": 0,
       "commentThread": [],
       "commentsVisible": false,
       "contentSha256Hex": null,
       "customPlotOptions": {
        "redashChart": [
         {
          "key": "type",
          "value": "CHART"
         },
         {
          "key": "options",
          "value": {
           "alignYAxesAtZero": true,
           "coefficient": 1,
           "columnConfigurationMap": {
            "x": {
             "column": "date",
             "id": "column_7612c2cd44",
             "transform": "DAY_LEVEL"
            },
            "y": [
             {
              "column": "sum(total_price)",
              "id": "column_7612c2cd41",
              "transform": "SUM"
             }
            ]
           },
           "dateTimeFormat": "DD/MM/YYYY HH:mm",
           "direction": {
            "type": "counterclockwise"
           },
           "error_y": {
            "type": "data",
            "visible": true
           },
           "globalSeriesType": "line",
           "isAggregationOn": true,
           "legend": {
            "traceorder": "normal"
           },
           "missingValuesAsZero": true,
           "numberFormat": "0,0.[00000]",
           "percentFormat": "0[.]00%",
           "series": {
            "error_y": {
             "type": "data",
             "visible": true
            },
            "stacking": null
           },
           "seriesOptions": {
            "column_7612c2cd41": {
             "name": "sum(total_price)",
             "yAxis": 0
            }
           },
           "showDataLabels": false,
           "sizemode": "diameter",
           "sortX": true,
           "sortY": true,
           "swappedAxes": false,
           "textFormat": "",
           "useAggregationsUi": true,
           "valuesOptions": {},
           "version": 2,
           "xAxis": {
            "labels": {
             "enabled": true
            },
            "type": "-"
           },
           "yAxis": [
            {
             "type": "-"
            },
            {
             "opposite": true,
             "type": "-"
            }
           ]
          }
         }
        ]
       },
       "datasetPreviewNameToCmdIdMap": {},
       "diffDeletes": [],
       "diffInserts": [],
       "displayType": "redashChart",
       "error": null,
       "errorDetails": null,
       "errorSummary": null,
       "errorTraceType": null,
       "finishTime": 0,
       "globalVars": {},
       "guid": "",
       "height": "auto",
       "hideCommandCode": false,
       "hideCommandResult": false,
       "iPythonMetadata": null,
       "inputWidgets": {},
       "isLockedInExamMode": false,
       "latestUser": "a user",
       "latestUserId": null,
       "listResultMetadata": null,
       "metadata": {
        "byteLimit": 2048000,
        "rowLimit": 10000
       },
       "nuid": "0a18f065-63ca-4387-930e-0f94d48e96e2",
       "origId": 0,
       "parentHierarchy": [],
       "pivotAggregation": null,
       "pivotColumns": null,
       "position": 8.5,
       "resultDbfsErrorMessage": null,
       "resultDbfsStatus": "INLINED_IN_TREE",
       "results": null,
       "showCommandTitle": false,
       "startTime": 0,
       "state": "finished",
       "streamStates": {},
       "subcommandOptions": {
        "queryPlan": {
         "groups": [
          {
           "column": "column_7612c2cd44",
           "type": "column"
          }
         ],
         "selects": [
          {
           "alias": "column_7612c2cd44",
           "args": [
            {
             "column": "date",
             "type": "column"
            },
            {
             "string": "DAY",
             "type": "string"
            }
           ],
           "function": "DATE_TRUNC",
           "type": "function"
          },
          {
           "alias": "column_7612c2cd41",
           "args": [
            {
             "column": "sum(total_price)",
             "type": "column"
            }
           ],
           "function": "SUM",
           "type": "function"
          }
         ]
        }
       },
       "submitTime": 0,
       "subtype": "tableResultSubCmd.visualization",
       "tableResultIndex": 0,
       "tableResultSettingsMap": {},
       "useConsistentColors": false,
       "version": "CommandV1",
       "width": "auto",
       "workflows": [],
       "xColumns": null,
       "yColumns": null
      }
     },
     "output_type": "display_data"
    }
   ],
   "source": [
    "# Evolução das Vendas por Data\n",
    "df_sales_per_day = df_spark.groupBy(\"date\").sum(\"total_price\").orderBy(\"date\")\n",
    "display(df_sales_per_day)"
   ]
  },
  {
   "cell_type": "code",
   "execution_count": 0,
   "metadata": {
    "application/vnd.databricks.v1+cell": {
     "cellMetadata": {
      "byteLimit": 2048000,
      "rowLimit": 10000
     },
     "inputWidgets": {},
     "nuid": "a7da8aab-8743-41fd-83e8-0b101a002643",
     "showTitle": false,
     "tableResultSettingsMap": {},
     "title": ""
    }
   },
   "outputs": [
    {
     "output_type": "stream",
     "name": "stdout",
     "output_type": "stream",
     "text": [
      "+-------------------+------------------+\n|           features|       total_price|\n+-------------------+------------------+\n|[1.0,338.05,1089.0]|            338.05|\n| [3.0,76.69,1005.0]|            230.07|\n|[5.0,268.42,1042.0]|1342.1000000000001|\n|[4.0,434.86,1013.0]|           1739.44|\n|[1.0,412.49,1082.0]|            412.49|\n+-------------------+------------------+\nonly showing top 5 rows\n\n"
     ]
    }
   ],
   "source": [
    "from pyspark.ml.feature import VectorAssembler\n",
    "from pyspark.ml.regression import LinearRegression\n",
    "\n",
    "# Selecionar colunas para treino\n",
    "feature_cols = [\"quantity\", \"price\", \"product_id\"]\n",
    "assembler = VectorAssembler(inputCols=feature_cols, outputCol=\"features\")\n",
    "\n",
    "df_ml = assembler.transform(df_spark).select(\"features\", \"total_price\")\n",
    "df_ml.show(5)\n"
   ]
  },
  {
   "cell_type": "markdown",
   "metadata": {
    "application/vnd.databricks.v1+cell": {
     "cellMetadata": {},
     "inputWidgets": {},
     "nuid": "6d4a00c8-c663-4703-bf71-37776f81f43b",
     "showTitle": false,
     "tableResultSettingsMap": {},
     "title": ""
    }
   },
   "source": [
    "## Machine Learning: Previsão de Vendas"
   ]
  },
  {
   "cell_type": "code",
   "execution_count": 0,
   "metadata": {
    "application/vnd.databricks.v1+cell": {
     "cellMetadata": {
      "byteLimit": 2048000,
      "rowLimit": 10000
     },
     "inputWidgets": {},
     "nuid": "03430d97-3c75-4694-9363-607903a5f399",
     "showTitle": false,
     "tableResultSettingsMap": {},
     "title": ""
    }
   },
   "outputs": [
    {
     "output_type": "stream",
     "name": "stdout",
     "output_type": "stream",
     "text": [
      "Coeficiente: [254.5312026960165,3.0056740382290377,-0.0032275383087165812]\nIntercepto: -762.2904774694729\n"
     ]
    }
   ],
   "source": [
    "# Criar modelo de regressão linear\n",
    "lr = LinearRegression(featuresCol=\"features\", labelCol=\"total_price\")\n",
    "\n",
    "# Treinar modelo\n",
    "model = lr.fit(df_ml)\n",
    "\n",
    "# Exibir coeficientes\n",
    "print(f\"Coeficiente: {model.coefficients}\")\n",
    "print(f\"Intercepto: {model.intercept}\")\n"
   ]
  },
  {
   "cell_type": "code",
   "execution_count": 0,
   "metadata": {
    "application/vnd.databricks.v1+cell": {
     "cellMetadata": {
      "byteLimit": 2048000,
      "rowLimit": 10000
     },
     "inputWidgets": {},
     "nuid": "285b2e2f-1150-4648-bd6c-38242137509e",
     "showTitle": false,
     "tableResultSettingsMap": {},
     "title": ""
    }
   },
   "outputs": [
    {
     "output_type": "stream",
     "name": "stdout",
     "output_type": "stream",
     "text": [
      "+------------------+------------------+\n|          features|        prediction|\n+------------------+------------------+\n|[1.0,200.0,1001.0]|  90.1447670253259|\n| [3.0,50.0,1020.0]|148.29474345513756|\n+------------------+------------------+\n\n"
     ]
    }
   ],
   "source": [
    "test_data = spark.createDataFrame([\n",
    "    (1, 200.0, 1001),  # Exemplo: 1 unidade, preço de 200, produto 1001\n",
    "    (3, 50.0, 1020),   # Exemplo: 3 unidades, preço de 50, produto 1020\n",
    "], [\"quantity\", \"price\", \"product_id\"])\n",
    "\n",
    "# Transformar dados para formato de features\n",
    "test_data = assembler.transform(test_data).select(\"features\")\n",
    "\n",
    "# Fazer previsões\n",
    "predictions = model.transform(test_data)\n",
    "predictions.show()\n"
   ]
  }
 ],
 "metadata": {
  "application/vnd.databricks.v1+notebook": {
   "computePreferences": null,
   "dashboards": [],
   "environmentMetadata": {
    "base_environment": "",
    "client": "1"
   },
   "language": "python",
   "notebookMetadata": {
    "mostRecentlyExecutedCommandWithImplicitDF": {
     "commandId": 3897658337047583,
     "dataframes": [
      "_sqldf"
     ]
    },
    "pythonIndentUnit": 4
   },
   "notebookName": "Sales Analysis",
   "widgets": {}
  }
 },
 "nbformat": 4,
 "nbformat_minor": 0
}
